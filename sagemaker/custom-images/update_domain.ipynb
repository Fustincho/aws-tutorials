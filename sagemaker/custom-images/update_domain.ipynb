{
 "cells": [
  {
   "cell_type": "markdown",
   "id": "12ca47d7-83a8-4f59-97a8-28b44595d479",
   "metadata": {},
   "source": [
    "# Uploading and Using Custom Images in Amazon SageMaker\n",
    "\n",
    "In the second part, the focus is on integrating the custom Docker image with a Amazon SageMaker Domain. This section will cover important aspects such as setting up SageMaker environments, specifying the right configurations, and ensuring seamless integration of the custom image with SageMaker's capabilities."
   ]
  },
  {
   "cell_type": "code",
   "execution_count": 1,
   "id": "9d21fe3a-a103-4710-acea-03816d8566ef",
   "metadata": {
    "tags": []
   },
   "outputs": [
    {
     "name": "stdout",
     "output_type": "stream",
     "text": [
      "sagemaker.config INFO - Not applying SDK defaults from location: /etc/xdg/sagemaker/config.yaml\n",
      "sagemaker.config INFO - Not applying SDK defaults from location: /home/ec2-user/.config/sagemaker/config.yaml\n"
     ]
    }
   ],
   "source": [
    "import boto3\n",
    "import json\n",
    "import sagemaker\n",
    "import os"
   ]
  },
  {
   "cell_type": "code",
   "execution_count": 2,
   "id": "68ff1fbd-6a7d-4cb0-9fca-470598ff0bee",
   "metadata": {
    "tags": []
   },
   "outputs": [],
   "source": [
    "sm = boto3.client(\"sagemaker\")"
   ]
  },
  {
   "cell_type": "markdown",
   "id": "2515c977-a9a5-4164-8d74-4f3432d160f5",
   "metadata": {},
   "source": [
    "To tailor the SageMaker environment to specific needs, create a configuration file named `app-image-config-input.json`\n",
    ". This configuration is essential for setting up custom kernel environments in SageMaker's kernel gateway images.\n",
    "\n",
    "**Key Aspects of the Configuration**\n",
    "KernelSpecs Name Matching: The Name value under `KernelSpecs` *must exactly match the name* of the `kernelSpec` available in the Docker image associated with this AppImageConfig. This is case-sensitive. To find the available kernelSpecs in an image, run jupyter kernelspec list from a shell inside the container.\n",
    "\n",
    "You can debug your image locally by running:\n",
    "\n",
    "`docker run -it -p 8888:8888 {your_account_id}.dkr.ecr.{region}.amazonaws.com/repository_name:image_name bash`\n",
    "\n",
    "MountPath for EFS: MountPath specifies the path within the image where the [Amazon Elastic File System (Amazon EFS)](https://aws.amazon.com/es/efs/) home directory will be mounted. This path should be distinct from any paths used within the container."
   ]
  },
  {
   "cell_type": "code",
   "execution_count": 3,
   "id": "cce9891b-d6f2-42f8-b77f-6abcef8fbe6b",
   "metadata": {
    "tags": []
   },
   "outputs": [
    {
     "name": "stdout",
     "output_type": "stream",
     "text": [
      "Overwriting app-image-config-input.json\n"
     ]
    }
   ],
   "source": [
    "%%writefile app-image-config-input.json\n",
    "{\n",
    "    \"AppImageConfigName\": \"test-image-config\",\n",
    "    \"KernelGatewayImageConfig\": {\n",
    "        \"KernelSpecs\": [\n",
    "            {\n",
    "                \"Name\": \"env1\",\n",
    "                \"DisplayName\": \"Python 3.11 [pip env: Faker]\"\n",
    "            },\n",
    "            {\n",
    "                \"Name\": \"env2\",\n",
    "                \"DisplayName\": \"Python 3.11 [pip env: matplotlib]\"\n",
    "            }\n",
    "        ],\n",
    "        \"FileSystemConfig\": {\n",
    "            \"MountPath\": \"/root\",\n",
    "            \"DefaultUid\": 0,\n",
    "            \"DefaultGid\": 0\n",
    "        }\n",
    "    }\n",
    "}"
   ]
  },
  {
   "cell_type": "code",
   "execution_count": 4,
   "id": "0aaaeb2d-25fa-400b-8992-fbd90b9e1770",
   "metadata": {
    "tags": []
   },
   "outputs": [],
   "source": [
    "with open(\"app-image-config-input.json\", \"rb\") as f:\n",
    "    app_image_config = json.loads(f.read())"
   ]
  },
  {
   "cell_type": "code",
   "execution_count": 5,
   "id": "faccee6c-8056-401e-9fdc-7f51e8972172",
   "metadata": {
    "tags": []
   },
   "outputs": [
    {
     "data": {
      "text/plain": [
       "{'AppImageConfigName': 'test-image-config',\n",
       " 'KernelGatewayImageConfig': {'KernelSpecs': [{'Name': 'env1',\n",
       "    'DisplayName': 'Python 3.11 [pip env: Faker]'},\n",
       "   {'Name': 'env2', 'DisplayName': 'Python 3.11 [pip env: matplotlib]'}],\n",
       "  'FileSystemConfig': {'MountPath': '/root',\n",
       "   'DefaultUid': 0,\n",
       "   'DefaultGid': 0}}}"
      ]
     },
     "execution_count": 5,
     "metadata": {},
     "output_type": "execute_result"
    }
   ],
   "source": [
    "app_image_config"
   ]
  },
  {
   "cell_type": "markdown",
   "id": "0886c191-18ae-49bf-8a2f-85d947d05a1e",
   "metadata": {},
   "source": [
    "This section of the notebook focuses on extracting essential details from the SageMaker notebook's metadata file and using them to construct the full name of a Docker image located in Amazon ECR."
   ]
  },
  {
   "cell_type": "code",
   "execution_count": 6,
   "id": "68bc165c-39e4-4cc8-ba71-d791682e0b59",
   "metadata": {
    "tags": []
   },
   "outputs": [
    {
     "name": "stdout",
     "output_type": "stream",
     "text": [
      "Notebook metadata: dict_keys(['ResourceArn', 'ResourceName'])\n"
     ]
    }
   ],
   "source": [
    "role = sagemaker.get_execution_role()\n",
    "\n",
    "NOTEBOOK_METADATA_FILE = \"/opt/ml/metadata/resource-metadata.json\"\n",
    "\n",
    "if os.path.exists(NOTEBOOK_METADATA_FILE):\n",
    "    with open(NOTEBOOK_METADATA_FILE, \"rb\") as f:\n",
    "        md = json.loads(f.read())\n",
    "        print(f\"Notebook metadata: {md.keys()}\")"
   ]
  },
  {
   "cell_type": "code",
   "execution_count": 7,
   "id": "e718640b-933b-436e-bfde-10bc8a1682aa",
   "metadata": {
    "tags": []
   },
   "outputs": [],
   "source": [
    "repo_name = \"sagemaker-custom-images\"\n",
    "image_name = \"test-image\"\n",
    "account_id = boto3.client(\"sts\").get_caller_identity()[\"Account\"]\n",
    "region = md[\"ResourceArn\"].split(\":\")[3]\n",
    "full_name = f\"{account_id}.dkr.ecr.{region}.amazonaws.com/{repo_name}:{image_name}\"\n",
    "\n",
    "#print(full_name)"
   ]
  },
  {
   "cell_type": "markdown",
   "id": "0c3f9fca-3f06-4fd8-ab1e-394eff438c7c",
   "metadata": {
    "tags": []
   },
   "source": [
    "sm.delete_image(ImageName=image_name)"
   ]
  },
  {
   "cell_type": "code",
   "execution_count": null,
   "id": "cbc813b9-dc9b-4a62-a977-5ab48bc1279f",
   "metadata": {
    "tags": []
   },
   "outputs": [],
   "source": [
    "# Create Studio Image\n",
    "r = sm.create_image(\n",
    "    Description=\"Test with custom environments\",\n",
    "    DisplayName=\"Test image\",\n",
    "    ImageName=image_name,\n",
    "    RoleArn=role,\n",
    ")\n",
    "\n",
    "r"
   ]
  },
  {
   "cell_type": "markdown",
   "id": "7a812663-a3af-42b0-a9d0-b06434aab5f6",
   "metadata": {
    "tags": []
   },
   "source": [
    "Now create a SageMaker image version from the container image."
   ]
  },
  {
   "cell_type": "code",
   "execution_count": null,
   "id": "10a507b7-3d34-4a9b-8d96-136f34114fca",
   "metadata": {
    "tags": []
   },
   "outputs": [],
   "source": [
    "# Create image version\n",
    "r = sm.create_image_version(\n",
    "    BaseImage=full_name,\n",
    "    ImageName=image_name,\n",
    ")\n",
    "\n",
    "r"
   ]
  },
  {
   "cell_type": "code",
   "execution_count": 10,
   "id": "294e18a1-5e8a-4bb1-8e60-97064de1adaa",
   "metadata": {
    "tags": []
   },
   "outputs": [
    {
     "name": "stdout",
     "output_type": "stream",
     "text": [
      "Image version status: CREATED\n"
     ]
    }
   ],
   "source": [
    "r = sm.describe_image_version(ImageName=image_name)\n",
    "print(f\"Image version status: {r['ImageVersionStatus']}\")"
   ]
  },
  {
   "cell_type": "markdown",
   "id": "5786356f-811b-451f-b4ff-02b2381ad161",
   "metadata": {
    "tags": []
   },
   "source": [
    "The image config is created based on the `app-image-config-input.json`. \n",
    "\n",
    "- This chunk will fail if there's already an image config with the same name. You can delete it with: `sm.delete_app_image_config(AppImageConfigName=app_image_config[\"AppImageConfigName\"])`\n",
    "- To retrieve the metadata of the image config, run `sm.describe_app_image_config(AppImageConfigName=\"test-image-config\")`\n",
    "- To list all image configs, run `sm.list_app_image_configs()`"
   ]
  },
  {
   "cell_type": "code",
   "execution_count": null,
   "id": "86ec5682-a974-41a4-8c1b-7c0b897a352e",
   "metadata": {
    "tags": []
   },
   "outputs": [],
   "source": [
    "# create image config\n",
    "r = sm.create_app_image_config(\n",
    "    AppImageConfigName=app_image_config[\"AppImageConfigName\"],\n",
    "    KernelGatewayImageConfig=app_image_config[\"KernelGatewayImageConfig\"],\n",
    ")\n",
    "\n",
    "r"
   ]
  },
  {
   "cell_type": "markdown",
   "id": "544de33f-edca-44df-948a-d76bb6e00368",
   "metadata": {},
   "source": [
    "Update an existing SageMaker domain to use this app image. If you don't have a domain, you must create a new one.\n",
    "\n"
   ]
  },
  {
   "cell_type": "code",
   "execution_count": 12,
   "id": "797abf6e-00c2-4415-a5aa-b7b7b579a38a",
   "metadata": {
    "tags": []
   },
   "outputs": [
    {
     "name": "stdout",
     "output_type": "stream",
     "text": [
      "Overwriting update-domain-input.json\n"
     ]
    }
   ],
   "source": [
    "%%writefile update-domain-input.json\n",
    "{\n",
    "    \"DefaultUserSettings\": {\n",
    "        \"KernelGatewayAppSettings\": {\n",
    "            \"CustomImages\": [\n",
    "                {\n",
    "                    \"ImageName\": \"test-image\",\n",
    "                    \"AppImageConfigName\": \"test-image-config\"\n",
    "                }\n",
    "            ]\n",
    "        }\n",
    "    }\n",
    "}"
   ]
  },
  {
   "cell_type": "code",
   "execution_count": 13,
   "id": "46b8496b-03f6-4f90-adad-6b17f6bf9204",
   "metadata": {
    "tags": []
   },
   "outputs": [],
   "source": [
    "with open(\"update-domain-input.json\", \"rb\") as f:\n",
    "    update_domain_input = json.loads(f.read())"
   ]
  },
  {
   "cell_type": "markdown",
   "id": "f83ae6d3-c110-4b8b-805b-cb6c3fd98d91",
   "metadata": {},
   "source": [
    "Now you need to retrieve the `DomainId` of the specific domain where you intend to update the image. In this chunk, you accomplish this by listing all the domains that are currently in service and selecting one from the list."
   ]
  },
  {
   "cell_type": "code",
   "execution_count": 14,
   "id": "7a462d8d-0805-42c4-b490-cdb0023f7d71",
   "metadata": {
    "tags": []
   },
   "outputs": [
    {
     "data": {
      "text/plain": [
       "{'DomainArn': 'arn:aws:sagemaker:us-east-1:035665124469:domain/d-8pjidge43uiu',\n",
       " 'DomainId': 'd-8pjidge43uiu',\n",
       " 'DomainName': 'soap-notes',\n",
       " 'Status': 'InService',\n",
       " 'CreationTime': datetime.datetime(2023, 5, 31, 8, 40, 13, 508000, tzinfo=tzlocal()),\n",
       " 'LastModifiedTime': datetime.datetime(2024, 1, 15, 17, 15, 13, 456000, tzinfo=tzlocal()),\n",
       " 'Url': 'https://d-8pjidge43uiu.studio.us-east-1.sagemaker.aws'}"
      ]
     },
     "execution_count": 14,
     "metadata": {},
     "output_type": "execute_result"
    }
   ],
   "source": [
    "domains = [d for d in sm.list_domains()[\"Domains\"] if d[\"Status\"] == 'InService']\n",
    "\n",
    "domains[5]"
   ]
  },
  {
   "cell_type": "code",
   "execution_count": 15,
   "id": "b7a9c0da-8fa5-46d1-8a40-c0182609e02d",
   "metadata": {
    "tags": []
   },
   "outputs": [
    {
     "data": {
      "text/plain": [
       "'d-8pjidge43uiu'"
      ]
     },
     "execution_count": 15,
     "metadata": {},
     "output_type": "execute_result"
    }
   ],
   "source": [
    "domains[5]['DomainId']"
   ]
  },
  {
   "cell_type": "markdown",
   "id": "d02f92b3-85b2-4289-a11d-ff737e58d381",
   "metadata": {
    "tags": []
   },
   "source": [
    "To programmatically update the domain, the execution role associated with the notebook instance must have the necessary permissions. Consider the following policy as an example of the required rights:\n",
    "\n",
    "```json\n",
    "{\n",
    "    \"Version\": \"2012-10-17\",\n",
    "    \"Statement\": [\n",
    "        {\n",
    "            \"Effect\": \"Allow\",\n",
    "            \"Action\": \"sagemaker:UpdateDomain\",\n",
    "            \"Resource\": \"arn:aws:sagemaker:{region}:{account_id}:domain/d-8pjidge43uiu\"\n",
    "        }\n",
    "    ]\n",
    "}\n",
    "```\n",
    "\n",
    "You can see the information of the domain by running `sm.describe_domain(DomainId=\"d-8pjidge43uiu\")`"
   ]
  },
  {
   "cell_type": "code",
   "execution_count": null,
   "id": "136a291a-2c7a-47a3-8f60-8043cbd030fc",
   "metadata": {
    "tags": []
   },
   "outputs": [],
   "source": [
    "r = sm.update_domain(\n",
    "    DomainId=domains[5]['DomainId'],\n",
    "    DefaultUserSettings=update_domain_input[\"DefaultUserSettings\"],\n",
    ")\n",
    "\n",
    "r"
   ]
  },
  {
   "cell_type": "markdown",
   "id": "60e80b8d-25bc-4bf1-88a3-54bc637c277a",
   "metadata": {},
   "source": [
    "It takes around 5 minutes for the image to be visibe within Sagemaker Studio. You can select your image and kernel like this:\n",
    "\n",
    "![](img/select_image.png)\n",
    "\n",
    "Now test both environments:\n",
    "\n",
    "![](img/env_faker.png)\n",
    "\n",
    "![](img/env_matplotlib.png)\n",
    "\n",
    "## Update an image\n",
    "\n",
    "You can use the `sm.create_image_version` to push a new version of your image.\n",
    "\n",
    "```python\n",
    "r = sm.create_image_version(\n",
    "    BaseImage=full_name,\n",
    "    ImageName=image_name,\n",
    ")\n",
    "\n",
    "r\n",
    "```\n",
    "\n",
    "## References\n",
    "\n",
    "1. [Dive Deep into Amazon SageMaker Studio Notebook Architecture (AWS Blogs)](https://aws.amazon.com/blogs/machine-learning/dive-deep-into-amazon-sagemaker-studio-notebook-architecture/)\n",
    "2. [Four Approaches to Manage Python Packages in Amazon SageMaker Studio Notebooks (AWS Blogs)](https://aws.amazon.com/blogs/machine-learning/four-approaches-to-manage-python-packages-in-amazon-sagemaker-studio-notebooks/)\n",
    "3. [Create Custom App - Amazon SageMaker Studio Package Management (GitHub)](https://github.com/aws-samples/amazon-sagemaker-studio-package-management/blob/master/notebooks/create-custom-app.ipynb)\n",
    "4. [Amazon SageMaker Studio Custom Image Samples (GitHub)](https://github.com/aws-samples/sagemaker-studio-custom-image-samples/tree/main)\n",
    "5. [Kernelspecs - Jupyter Client Documentation](https://jupyter-client.readthedocs.io/en/latest/kernels.html#kernelspecs)\n",
    "6. [Amazon SageMaker Studio Custom Image Specifications (AWS Documentation)](https://docs.aws.amazon.com/sagemaker/latest/dg/studio-byoi-specs.html)"
   ]
  },
  {
   "cell_type": "code",
   "execution_count": null,
   "id": "8d1fbf3c-257f-4e6a-85df-6209450672df",
   "metadata": {},
   "outputs": [],
   "source": []
  }
 ],
 "metadata": {
  "kernelspec": {
   "display_name": "conda_python3",
   "language": "python",
   "name": "conda_python3"
  },
  "language_info": {
   "codemirror_mode": {
    "name": "ipython",
    "version": 3
   },
   "file_extension": ".py",
   "mimetype": "text/x-python",
   "name": "python",
   "nbconvert_exporter": "python",
   "pygments_lexer": "ipython3",
   "version": "3.10.13"
  }
 },
 "nbformat": 4,
 "nbformat_minor": 5
}
