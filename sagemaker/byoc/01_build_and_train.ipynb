{
 "cells": [
  {
   "cell_type": "code",
   "execution_count": null,
   "id": "c4040dbc-e7bf-4375-9b7b-0ec3181813b0",
   "metadata": {
    "tags": []
   },
   "outputs": [],
   "source": [
    "!hostnamectl | grep \"Operating System\""
   ]
  },
  {
   "cell_type": "code",
   "execution_count": null,
   "id": "1d5e7bac-c2b9-4708-a101-2b1de1dce471",
   "metadata": {
    "tags": []
   },
   "outputs": [],
   "source": [
    "!chmod +x ./utils/install_ffmpeg.sh\n",
    "!sudo ./utils/install_ffmpeg.sh"
   ]
  },
  {
   "cell_type": "code",
   "execution_count": null,
   "id": "0a6acbc9-2f36-41f0-be0e-d6315157bcf7",
   "metadata": {
    "tags": []
   },
   "outputs": [],
   "source": [
    "!pip install swig\n",
    "!pip install stable-baselines3==2.0.0a5 gymnasium[box2d]\n",
    "!pip install opencv-python"
   ]
  },
  {
   "cell_type": "code",
   "execution_count": 1,
   "id": "c29262be-8613-4060-9216-d825373e7942",
   "metadata": {
    "tags": []
   },
   "outputs": [],
   "source": [
    "import cv2\n",
    "import numpy as np\n",
    "import gymnasium as gym\n",
    "from utils.video_render import record_simulation"
   ]
  },
  {
   "cell_type": "code",
   "execution_count": 2,
   "id": "eb369e80-e873-4e2f-b527-63a6b0770246",
   "metadata": {
    "tags": []
   },
   "outputs": [],
   "source": [
    "def random_action(env: gym.Env, obs: np.ndarray) -> int:\n",
    "    return env.action_space.sample()"
   ]
  },
  {
   "cell_type": "code",
   "execution_count": 3,
   "id": "10ec8739-fa09-44d8-9e9f-ad4c588e9c70",
   "metadata": {
    "tags": []
   },
   "outputs": [
    {
     "name": "stdout",
     "output_type": "stream",
     "text": [
      "Video conversion successful: ./videos/random.mp4\n"
     ]
    },
    {
     "data": {
      "text/html": [
       "<video src=\"./videos/random.mp4\" controls  >\n",
       "      Your browser does not support the <code>video</code> element.\n",
       "    </video>"
      ],
      "text/plain": [
       "<IPython.core.display.Video object>"
      ]
     },
     "execution_count": 3,
     "metadata": {},
     "output_type": "execute_result"
    }
   ],
   "source": [
    "from IPython.display import Video\n",
    "\n",
    "video_path = './videos/random.mp4'\n",
    "\n",
    "record_simulation(random_action, video_path)\n",
    "Video(video_path)"
   ]
  },
  {
   "cell_type": "markdown",
   "id": "b4e2ff90-1bde-4d71-9e43-468bd047c75d",
   "metadata": {},
   "source": [
    "----------------------------------------\n",
    "| rollout/                |            |\n",
    "|    ep_len_mean          | 661        |\n",
    "|    ep_rew_mean          | 57.1       |\n",
    "| time/                   |            |\n",
    "|    fps                  | 1449       |\n",
    "|    iterations           | 19         |\n",
    "|    time_elapsed         | 214        |\n",
    "|    total_timesteps      | 311296     |\n",
    "| train/                  |            |\n",
    "|    approx_kl            | 0.00773607 |\n",
    "|    clip_fraction        | 0.0484     |\n",
    "|    clip_range           | 0.2        |\n",
    "|    entropy_loss         | -1.17      |\n",
    "|    explained_variance   | 0.748      |\n",
    "|    learning_rate        | 0.0003     |\n",
    "|    loss                 | 43.7       |\n",
    "|    n_updates            | 72         |\n",
    "|    policy_gradient_loss | -0.0025    |\n",
    "|    value_loss           | 183        |\n",
    "----------------------------------------"
   ]
  },
  {
   "cell_type": "code",
   "execution_count": 4,
   "id": "bc698223-4036-4f5c-8426-b75104e8ac7e",
   "metadata": {
    "tags": []
   },
   "outputs": [
    {
     "name": "stdout",
     "output_type": "stream",
     "text": [
      "sagemaker.config INFO - Not applying SDK defaults from location: /etc/xdg/sagemaker/config.yaml\n",
      "sagemaker.config INFO - Not applying SDK defaults from location: /home/ec2-user/.config/sagemaker/config.yaml\n"
     ]
    }
   ],
   "source": [
    "from sagemaker.estimator import Estimator\n",
    "import sagemaker\n",
    "\n",
    "session = sagemaker.Session()\n",
    "\n",
    "metric_definitions = [\n",
    "    {'Name': 'ep_len_mean', 'Regex': 'ep_len_mean\\s*\\|\\s*([\\d\\.]+)'},\n",
    "    {'Name': 'ep_rew_mean', 'Regex': 'ep_rew_mean\\s*\\|\\s*(-?[\\d\\.]+)'}\n",
    "]\n",
    "\n",
    "estimator = Estimator(\n",
    "    role=,\n",
    "    image_uri=,\n",
    "    instance_count=1,\n",
    "    instance_type=\"ml.g4dn.xlarge\",\n",
    "    output_path=,\n",
    "    session=session,\n",
    "    hyperparameters = {\n",
    "        'seed': 42,\n",
    "        'total_timesteps': 1000000\n",
    "    },\n",
    "    metric_definitions = metric_definitions\n",
    ")\n",
    "\n",
    "training_job_name = 'training-lunar-lander'"
   ]
  },
  {
   "cell_type": "code",
   "execution_count": null,
   "id": "1d726036-e102-412d-b415-a1de78ebe546",
   "metadata": {
    "tags": []
   },
   "outputs": [],
   "source": [
    "estimator.fit(job_name=training_job_name)"
   ]
  },
  {
   "cell_type": "code",
   "execution_count": null,
   "id": "d736c82e",
   "metadata": {
    "tags": []
   },
   "outputs": [
    {
     "name": "stderr",
     "output_type": "stream",
     "text": [
      "INFO:sagemaker:Creating training-job with name: training-lunar-lander-180424-7\n"
     ]
    },
    {
     "name": "stdout",
     "output_type": "stream",
     "text": [
      "2024-04-19 03:42:58 Starting - Starting the training job...\n",
      "2024-04-19 03:43:14 Starting - Preparing the instances for training...\n",
      "2024-04-19 03:43:50 Downloading - Downloading input data...\n",
      "2024-04-19 03:44:10 Downloading - Downloading the training image.........\n",
      "2024-04-19 03:45:35 Training - Training image download completed. Training in progress.\u001b[34m2024-04-19 03:45:49,090 [INFO] Initialization of training script completed. Commencing environment setup.\u001b[0m\n",
      "\u001b[34m2024-04-19 03:45:49,660 [INFO] CUDA is available. Utilizing GPU: Tesla T4\u001b[0m\n",
      "\u001b[34m2024-04-19 03:45:50,625 [INFO] PPO model configured. Starting training process.\u001b[0m\n",
      "\u001b[34mUsing cuda device\u001b[0m\n",
      "\u001b[34m---------------------------------\u001b[0m\n",
      "\u001b[34m| rollout/           |          |\u001b[0m\n",
      "\u001b[34m|    ep_len_mean     | 88.3     |\u001b[0m\n",
      "\u001b[34m|    ep_rew_mean     | -183     |\u001b[0m\n",
      "\u001b[34m| time/              |          |\u001b[0m\n",
      "\u001b[34m|    fps             | 3942     |\u001b[0m\n",
      "\u001b[34m|    iterations      | 1        |\u001b[0m\n",
      "\u001b[34m|    time_elapsed    | 4        |\u001b[0m\n",
      "\u001b[34m|    total_timesteps | 16384    |\u001b[0m\n",
      "\u001b[34m---------------------------------\u001b[0m\n",
      "\u001b[34m----------------------------------------\u001b[0m\n",
      "\u001b[34m| rollout/                |            |\u001b[0m\n",
      "\u001b[34m|    ep_len_mean          | 96.2       |\u001b[0m\n",
      "\u001b[34m|    ep_rew_mean          | -143       |\u001b[0m\n",
      "\u001b[34m| time/                   |            |\u001b[0m\n",
      "\u001b[34m|    fps                  | 2722       |\u001b[0m\n",
      "\u001b[34m|    iterations           | 2          |\u001b[0m\n",
      "\u001b[34m|    time_elapsed         | 12         |\u001b[0m\n",
      "\u001b[34m|    total_timesteps      | 32768      |\u001b[0m\n",
      "\u001b[34m| train/                  |            |\u001b[0m\n",
      "\u001b[34m|    approx_kl            | 0.00653172 |\u001b[0m\n",
      "\u001b[34m|    clip_fraction        | 0.0254     |\u001b[0m\n",
      "\u001b[34m|    clip_range           | 0.2        |\u001b[0m\n",
      "\u001b[34m|    entropy_loss         | -1.38      |\u001b[0m\n",
      "\u001b[34m|    explained_variance   | -0.000259  |\u001b[0m\n",
      "\u001b[34m|    learning_rate        | 0.0003     |\u001b[0m\n",
      "\u001b[34m|    loss                 | 1.15e+03   |\u001b[0m\n",
      "\u001b[34m|    n_updates            | 4          |\u001b[0m\n",
      "\u001b[34m|    policy_gradient_loss | -0.00474   |\u001b[0m\n",
      "\u001b[34m|    value_loss           | 4.52e+03   |\u001b[0m\n",
      "\u001b[34m----------------------------------------\u001b[0m\n",
      "\u001b[34m-----------------------------------------\u001b[0m\n",
      "\u001b[34m| rollout/                |             |\u001b[0m\n",
      "\u001b[34m|    ep_len_mean          | 105         |\u001b[0m\n",
      "\u001b[34m|    ep_rew_mean          | -140        |\u001b[0m\n",
      "\u001b[34m| time/                   |             |\u001b[0m\n",
      "\u001b[34m|    fps                  | 2489        |\u001b[0m\n",
      "\u001b[34m|    iterations           | 3           |\u001b[0m\n",
      "\u001b[34m|    time_elapsed         | 19          |\u001b[0m\n",
      "\u001b[34m|    total_timesteps      | 49152       |\u001b[0m\n",
      "\u001b[34m| train/                  |             |\u001b[0m\n",
      "\u001b[34m|    approx_kl            | 0.008380342 |\u001b[0m\n",
      "\u001b[34m|    clip_fraction        | 0.0276      |\u001b[0m\n",
      "\u001b[34m|    clip_range           | 0.2         |\u001b[0m\n",
      "\u001b[34m|    entropy_loss         | -1.37       |\u001b[0m\n",
      "\u001b[34m|    explained_variance   | -0.000503   |\u001b[0m\n",
      "\u001b[34m|    learning_rate        | 0.0003      |\u001b[0m\n",
      "\u001b[34m|    loss                 | 524         |\u001b[0m\n",
      "\u001b[34m|    n_updates            | 8           |\u001b[0m\n",
      "\u001b[34m|    policy_gradient_loss | -0.00455    |\u001b[0m\n",
      "\u001b[34m|    value_loss           | 2.22e+03    |\u001b[0m\n",
      "\u001b[34m-----------------------------------------\u001b[0m\n",
      "\u001b[34m-----------------------------------------\u001b[0m\n",
      "\u001b[34m| rollout/                |             |\u001b[0m\n",
      "\u001b[34m|    ep_len_mean          | 101         |\u001b[0m\n",
      "\u001b[34m|    ep_rew_mean          | -125        |\u001b[0m\n",
      "\u001b[34m| time/                   |             |\u001b[0m\n",
      "\u001b[34m|    fps                  | 2403        |\u001b[0m\n",
      "\u001b[34m|    iterations           | 4           |\u001b[0m\n",
      "\u001b[34m|    time_elapsed         | 27          |\u001b[0m\n",
      "\u001b[34m|    total_timesteps      | 65536       |\u001b[0m\n",
      "\u001b[34m| train/                  |             |\u001b[0m\n",
      "\u001b[34m|    approx_kl            | 0.008717576 |\u001b[0m\n",
      "\u001b[34m|    clip_fraction        | 0.0503      |\u001b[0m\n",
      "\u001b[34m|    clip_range           | 0.2         |\u001b[0m\n",
      "\u001b[34m|    entropy_loss         | -1.35       |\u001b[0m\n",
      "\u001b[34m|    explained_variance   | -0.012      |\u001b[0m\n",
      "\u001b[34m|    learning_rate        | 0.0003      |\u001b[0m\n",
      "\u001b[34m|    loss                 | 1.11e+03    |\u001b[0m\n",
      "\u001b[34m|    n_updates            | 12          |\u001b[0m\n",
      "\u001b[34m|    policy_gradient_loss | -0.00371    |\u001b[0m\n",
      "\u001b[34m|    value_loss           | 1.74e+03    |\u001b[0m\n",
      "\u001b[34m-----------------------------------------\u001b[0m\n",
      "\u001b[34m-----------------------------------------\u001b[0m\n",
      "\u001b[34m| rollout/                |             |\u001b[0m\n",
      "\u001b[34m|    ep_len_mean          | 110         |\u001b[0m\n",
      "\u001b[34m|    ep_rew_mean          | -118        |\u001b[0m\n",
      "\u001b[34m| time/                   |             |\u001b[0m\n",
      "\u001b[34m|    fps                  | 2326        |\u001b[0m\n",
      "\u001b[34m|    iterations           | 5           |\u001b[0m\n",
      "\u001b[34m|    time_elapsed         | 35          |\u001b[0m\n",
      "\u001b[34m|    total_timesteps      | 81920       |\u001b[0m\n",
      "\u001b[34m| train/                  |             |\u001b[0m\n",
      "\u001b[34m|    approx_kl            | 0.008166521 |\u001b[0m\n",
      "\u001b[34m|    clip_fraction        | 0.0595      |\u001b[0m\n",
      "\u001b[34m|    clip_range           | 0.2         |\u001b[0m\n",
      "\u001b[34m|    entropy_loss         | -1.35       |\u001b[0m\n",
      "\u001b[34m|    explained_variance   | -8.18e-05   |\u001b[0m\n",
      "\u001b[34m|    learning_rate        | 0.0003      |\u001b[0m\n",
      "\u001b[34m|    loss                 | 396         |\u001b[0m\n",
      "\u001b[34m|    n_updates            | 16          |\u001b[0m\n",
      "\u001b[34m|    policy_gradient_loss | -0.00272    |\u001b[0m\n",
      "\u001b[34m|    value_loss           | 1.09e+03    |\u001b[0m\n",
      "\u001b[34m-----------------------------------------\u001b[0m\n",
      "\u001b[34m-----------------------------------------\u001b[0m\n",
      "\u001b[34m| rollout/                |             |\u001b[0m\n",
      "\u001b[34m|    ep_len_mean          | 104         |\u001b[0m\n",
      "\u001b[34m|    ep_rew_mean          | -95.3       |\u001b[0m\n",
      "\u001b[34m| time/                   |             |\u001b[0m\n",
      "\u001b[34m|    fps                  | 2304        |\u001b[0m\n",
      "\u001b[34m|    iterations           | 6           |\u001b[0m\n",
      "\u001b[34m|    time_elapsed         | 42          |\u001b[0m\n",
      "\u001b[34m|    total_timesteps      | 98304       |\u001b[0m\n",
      "\u001b[34m| train/                  |             |\u001b[0m\n",
      "\u001b[34m|    approx_kl            | 0.008988056 |\u001b[0m\n",
      "\u001b[34m|    clip_fraction        | 0.0934      |\u001b[0m\n",
      "\u001b[34m|    clip_range           | 0.2         |\u001b[0m\n",
      "\u001b[34m|    entropy_loss         | -1.33       |\u001b[0m\n",
      "\u001b[34m|    explained_variance   | -0.000259   |\u001b[0m\n",
      "\u001b[34m|    learning_rate        | 0.0003      |\u001b[0m\n",
      "\u001b[34m|    loss                 | 429         |\u001b[0m\n",
      "\u001b[34m|    n_updates            | 20          |\u001b[0m\n",
      "\u001b[34m|    policy_gradient_loss | -0.00495    |\u001b[0m\n",
      "\u001b[34m|    value_loss           | 933         |\u001b[0m\n",
      "\u001b[34m-----------------------------------------\u001b[0m\n",
      "\u001b[34m------------------------------------------\u001b[0m\n",
      "\u001b[34m| rollout/                |              |\u001b[0m\n",
      "\u001b[34m|    ep_len_mean          | 106          |\u001b[0m\n",
      "\u001b[34m|    ep_rew_mean          | -86.9        |\u001b[0m\n",
      "\u001b[34m| time/                   |              |\u001b[0m\n",
      "\u001b[34m|    fps                  | 2286         |\u001b[0m\n",
      "\u001b[34m|    iterations           | 7            |\u001b[0m\n",
      "\u001b[34m|    time_elapsed         | 50           |\u001b[0m\n",
      "\u001b[34m|    total_timesteps      | 114688       |\u001b[0m\n",
      "\u001b[34m| train/                  |              |\u001b[0m\n",
      "\u001b[34m|    approx_kl            | 0.0069011594 |\u001b[0m\n",
      "\u001b[34m|    clip_fraction        | 0.0276       |\u001b[0m\n",
      "\u001b[34m|    clip_range           | 0.2          |\u001b[0m\n",
      "\u001b[34m|    entropy_loss         | -1.33        |\u001b[0m\n",
      "\u001b[34m|    explained_variance   | 0.000759     |\u001b[0m\n",
      "\u001b[34m|    learning_rate        | 0.0003       |\u001b[0m\n",
      "\u001b[34m|    loss                 | 391          |\u001b[0m\n",
      "\u001b[34m|    n_updates            | 24           |\u001b[0m\n",
      "\u001b[34m|    policy_gradient_loss | -0.00343     |\u001b[0m\n",
      "\u001b[34m|    value_loss           | 806          |\u001b[0m\n",
      "\u001b[34m------------------------------------------\u001b[0m\n",
      "\u001b[34m-----------------------------------------\u001b[0m\n",
      "\u001b[34m| rollout/                |             |\u001b[0m\n",
      "\u001b[34m|    ep_len_mean          | 121         |\u001b[0m\n",
      "\u001b[34m|    ep_rew_mean          | -70.9       |\u001b[0m\n",
      "\u001b[34m| time/                   |             |\u001b[0m\n",
      "\u001b[34m|    fps                  | 2193        |\u001b[0m\n",
      "\u001b[34m|    iterations           | 8           |\u001b[0m\n",
      "\u001b[34m|    time_elapsed         | 59          |\u001b[0m\n",
      "\u001b[34m|    total_timesteps      | 131072      |\u001b[0m\n",
      "\u001b[34m| train/                  |             |\u001b[0m\n",
      "\u001b[34m|    approx_kl            | 0.008449849 |\u001b[0m\n",
      "\u001b[34m|    clip_fraction        | 0.0656      |\u001b[0m\n",
      "\u001b[34m|    clip_range           | 0.2         |\u001b[0m\n",
      "\u001b[34m|    entropy_loss         | -1.3        |\u001b[0m\n",
      "\u001b[34m|    explained_variance   | 0.00941     |\u001b[0m\n",
      "\u001b[34m|    learning_rate        | 0.0003      |\u001b[0m\n",
      "\u001b[34m|    loss                 | 300         |\u001b[0m\n",
      "\u001b[34m|    n_updates            | 28          |\u001b[0m\n",
      "\u001b[34m|    policy_gradient_loss | -0.00626    |\u001b[0m\n",
      "\u001b[34m|    value_loss           | 487         |\u001b[0m\n",
      "\u001b[34m-----------------------------------------\u001b[0m\n"
     ]
    }
   ],
   "source": [
    "training_job_name = 'training-lunar-lander-180424-7'\n",
    "estimator.fit(job_name=training_job_name)"
   ]
  },
  {
   "cell_type": "code",
   "execution_count": 5,
   "id": "63326698-c756-444d-8532-6e8d370151bb",
   "metadata": {
    "tags": []
   },
   "outputs": [],
   "source": [
    "import boto3\n",
    "s3 = boto3.client('s3')\n",
    "s3.download_file('aws-samples-avt', f'{training_job_name}/output/model.tar.gz', './artifacts/model.tar.gz')"
   ]
  },
  {
   "cell_type": "code",
   "execution_count": 6,
   "id": "e77f33b9-3c7c-4062-b68a-236350bbfc20",
   "metadata": {
    "tags": []
   },
   "outputs": [
    {
     "name": "stdout",
     "output_type": "stream",
     "text": [
      "tar: Ignoring unknown extended header keyword `LIBARCHIVE.creationtime'\n"
     ]
    }
   ],
   "source": [
    "!tar -xzf ./artifacts/model.tar.gz -C ./artifacts"
   ]
  },
  {
   "cell_type": "code",
   "execution_count": null,
   "id": "74ebda0a-0a71-4fef-b548-2437ffeee51d",
   "metadata": {
    "tags": []
   },
   "outputs": [],
   "source": [
    "from stable_baselines3 import PPO\n",
    "\n",
    "model = PPO.load('./artifacts/model.zip')"
   ]
  },
  {
   "cell_type": "code",
   "execution_count": 9,
   "id": "3f0bd4a6-e226-43dc-9423-a5f14e050e1d",
   "metadata": {
    "tags": []
   },
   "outputs": [
    {
     "data": {
      "text/plain": [
       "array(3)"
      ]
     },
     "execution_count": 9,
     "metadata": {},
     "output_type": "execute_result"
    }
   ],
   "source": [
    "action, _ = model.predict([-0.004, 1.403, -0.418, -0.317, 0.004, 0.094, 0., 0.])\n",
    "\n",
    "action"
   ]
  },
  {
   "cell_type": "code",
   "execution_count": 13,
   "id": "57e17ad9-2aa2-408c-8b7e-08f87df7f86c",
   "metadata": {
    "tags": []
   },
   "outputs": [
    {
     "name": "stdout",
     "output_type": "stream",
     "text": [
      "Video conversion successful: ./videos/model.mp4\n"
     ]
    },
    {
     "data": {
      "text/html": [
       "<video src=\"./videos/model.mp4\" controls  >\n",
       "      Your browser does not support the <code>video</code> element.\n",
       "    </video>"
      ],
      "text/plain": [
       "<IPython.core.display.Video object>"
      ]
     },
     "execution_count": 13,
     "metadata": {},
     "output_type": "execute_result"
    }
   ],
   "source": [
    "from utils.video_render import make_model_action\n",
    "\n",
    "video_path = './videos/model.mp4'\n",
    "\n",
    "model_action = make_model_action(model)\n",
    "record_simulation(model_action, video_path)\n",
    "Video(video_path)"
   ]
  }
 ],
 "metadata": {
  "kernelspec": {
   "display_name": "conda_python3",
   "language": "python",
   "name": "conda_python3"
  },
  "language_info": {
   "codemirror_mode": {
    "name": "ipython",
    "version": 3
   },
   "file_extension": ".py",
   "mimetype": "text/x-python",
   "name": "python",
   "nbconvert_exporter": "python",
   "pygments_lexer": "ipython3",
   "version": "3.10.13"
  }
 },
 "nbformat": 4,
 "nbformat_minor": 5
}
