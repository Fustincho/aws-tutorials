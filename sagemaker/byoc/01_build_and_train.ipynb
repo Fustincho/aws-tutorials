{
 "cells": [
  {
   "cell_type": "code",
   "execution_count": 21,
   "id": "0a6acbc9-2f36-41f0-be0e-d6315157bcf7",
   "metadata": {
    "collapsed": true,
    "jupyter": {
     "outputs_hidden": true
    },
    "tags": []
   },
   "outputs": [
    {
     "name": "stdout",
     "output_type": "stream",
     "text": [
      "Requirement already satisfied: swig in /home/ec2-user/anaconda3/envs/python3/lib/python3.10/site-packages (4.2.1)\n",
      "Requirement already satisfied: stable-baselines3==2.0.0a5 in /home/ec2-user/anaconda3/envs/python3/lib/python3.10/site-packages (2.0.0a5)\n",
      "Requirement already satisfied: gymnasium[box2d] in /home/ec2-user/anaconda3/envs/python3/lib/python3.10/site-packages (0.28.1)\n",
      "Requirement already satisfied: numpy in /home/ec2-user/anaconda3/envs/python3/lib/python3.10/site-packages (from stable-baselines3==2.0.0a5) (1.22.4)\n",
      "Requirement already satisfied: torch>=1.11 in /home/ec2-user/anaconda3/envs/python3/lib/python3.10/site-packages (from stable-baselines3==2.0.0a5) (2.2.2)\n",
      "Requirement already satisfied: cloudpickle in /home/ec2-user/anaconda3/envs/python3/lib/python3.10/site-packages (from stable-baselines3==2.0.0a5) (2.2.1)\n",
      "Requirement already satisfied: pandas in /home/ec2-user/anaconda3/envs/python3/lib/python3.10/site-packages (from stable-baselines3==2.0.0a5) (2.2.0)\n",
      "Requirement already satisfied: matplotlib in /home/ec2-user/anaconda3/envs/python3/lib/python3.10/site-packages (from stable-baselines3==2.0.0a5) (3.8.3)\n",
      "Requirement already satisfied: jax-jumpy>=1.0.0 in /home/ec2-user/anaconda3/envs/python3/lib/python3.10/site-packages (from gymnasium[box2d]) (1.0.0)\n",
      "Requirement already satisfied: typing-extensions>=4.3.0 in /home/ec2-user/anaconda3/envs/python3/lib/python3.10/site-packages (from gymnasium[box2d]) (4.9.0)\n",
      "Requirement already satisfied: farama-notifications>=0.0.1 in /home/ec2-user/anaconda3/envs/python3/lib/python3.10/site-packages (from gymnasium[box2d]) (0.0.4)\n",
      "Requirement already satisfied: box2d-py==2.3.5 in /home/ec2-user/anaconda3/envs/python3/lib/python3.10/site-packages (from gymnasium[box2d]) (2.3.5)\n",
      "Requirement already satisfied: pygame==2.1.3 in /home/ec2-user/anaconda3/envs/python3/lib/python3.10/site-packages (from gymnasium[box2d]) (2.1.3)\n",
      "Requirement already satisfied: swig==4.* in /home/ec2-user/anaconda3/envs/python3/lib/python3.10/site-packages (from gymnasium[box2d]) (4.2.1)\n",
      "Requirement already satisfied: filelock in /home/ec2-user/anaconda3/envs/python3/lib/python3.10/site-packages (from torch>=1.11->stable-baselines3==2.0.0a5) (3.13.1)\n",
      "Requirement already satisfied: sympy in /home/ec2-user/anaconda3/envs/python3/lib/python3.10/site-packages (from torch>=1.11->stable-baselines3==2.0.0a5) (1.12)\n",
      "Requirement already satisfied: networkx in /home/ec2-user/anaconda3/envs/python3/lib/python3.10/site-packages (from torch>=1.11->stable-baselines3==2.0.0a5) (3.2.1)\n",
      "Requirement already satisfied: jinja2 in /home/ec2-user/anaconda3/envs/python3/lib/python3.10/site-packages (from torch>=1.11->stable-baselines3==2.0.0a5) (3.1.3)\n",
      "Requirement already satisfied: fsspec in /home/ec2-user/anaconda3/envs/python3/lib/python3.10/site-packages (from torch>=1.11->stable-baselines3==2.0.0a5) (2024.2.0)\n",
      "Requirement already satisfied: nvidia-cuda-nvrtc-cu12==12.1.105 in /home/ec2-user/anaconda3/envs/python3/lib/python3.10/site-packages (from torch>=1.11->stable-baselines3==2.0.0a5) (12.1.105)\n",
      "Requirement already satisfied: nvidia-cuda-runtime-cu12==12.1.105 in /home/ec2-user/anaconda3/envs/python3/lib/python3.10/site-packages (from torch>=1.11->stable-baselines3==2.0.0a5) (12.1.105)\n",
      "Requirement already satisfied: nvidia-cuda-cupti-cu12==12.1.105 in /home/ec2-user/anaconda3/envs/python3/lib/python3.10/site-packages (from torch>=1.11->stable-baselines3==2.0.0a5) (12.1.105)\n",
      "Requirement already satisfied: nvidia-cudnn-cu12==8.9.2.26 in /home/ec2-user/anaconda3/envs/python3/lib/python3.10/site-packages (from torch>=1.11->stable-baselines3==2.0.0a5) (8.9.2.26)\n",
      "Requirement already satisfied: nvidia-cublas-cu12==12.1.3.1 in /home/ec2-user/anaconda3/envs/python3/lib/python3.10/site-packages (from torch>=1.11->stable-baselines3==2.0.0a5) (12.1.3.1)\n",
      "Requirement already satisfied: nvidia-cufft-cu12==11.0.2.54 in /home/ec2-user/anaconda3/envs/python3/lib/python3.10/site-packages (from torch>=1.11->stable-baselines3==2.0.0a5) (11.0.2.54)\n",
      "Requirement already satisfied: nvidia-curand-cu12==10.3.2.106 in /home/ec2-user/anaconda3/envs/python3/lib/python3.10/site-packages (from torch>=1.11->stable-baselines3==2.0.0a5) (10.3.2.106)\n",
      "Requirement already satisfied: nvidia-cusolver-cu12==11.4.5.107 in /home/ec2-user/anaconda3/envs/python3/lib/python3.10/site-packages (from torch>=1.11->stable-baselines3==2.0.0a5) (11.4.5.107)\n",
      "Requirement already satisfied: nvidia-cusparse-cu12==12.1.0.106 in /home/ec2-user/anaconda3/envs/python3/lib/python3.10/site-packages (from torch>=1.11->stable-baselines3==2.0.0a5) (12.1.0.106)\n",
      "Requirement already satisfied: nvidia-nccl-cu12==2.19.3 in /home/ec2-user/anaconda3/envs/python3/lib/python3.10/site-packages (from torch>=1.11->stable-baselines3==2.0.0a5) (2.19.3)\n",
      "Requirement already satisfied: nvidia-nvtx-cu12==12.1.105 in /home/ec2-user/anaconda3/envs/python3/lib/python3.10/site-packages (from torch>=1.11->stable-baselines3==2.0.0a5) (12.1.105)\n",
      "Requirement already satisfied: triton==2.2.0 in /home/ec2-user/anaconda3/envs/python3/lib/python3.10/site-packages (from torch>=1.11->stable-baselines3==2.0.0a5) (2.2.0)\n",
      "Requirement already satisfied: nvidia-nvjitlink-cu12 in /home/ec2-user/anaconda3/envs/python3/lib/python3.10/site-packages (from nvidia-cusolver-cu12==11.4.5.107->torch>=1.11->stable-baselines3==2.0.0a5) (12.4.127)\n",
      "Requirement already satisfied: contourpy>=1.0.1 in /home/ec2-user/anaconda3/envs/python3/lib/python3.10/site-packages (from matplotlib->stable-baselines3==2.0.0a5) (1.2.0)\n",
      "Requirement already satisfied: cycler>=0.10 in /home/ec2-user/anaconda3/envs/python3/lib/python3.10/site-packages (from matplotlib->stable-baselines3==2.0.0a5) (0.12.1)\n",
      "Requirement already satisfied: fonttools>=4.22.0 in /home/ec2-user/anaconda3/envs/python3/lib/python3.10/site-packages (from matplotlib->stable-baselines3==2.0.0a5) (4.49.0)\n",
      "Requirement already satisfied: kiwisolver>=1.3.1 in /home/ec2-user/anaconda3/envs/python3/lib/python3.10/site-packages (from matplotlib->stable-baselines3==2.0.0a5) (1.4.5)\n",
      "Requirement already satisfied: packaging>=20.0 in /home/ec2-user/anaconda3/envs/python3/lib/python3.10/site-packages (from matplotlib->stable-baselines3==2.0.0a5) (21.3)\n",
      "Requirement already satisfied: pillow>=8 in /home/ec2-user/anaconda3/envs/python3/lib/python3.10/site-packages (from matplotlib->stable-baselines3==2.0.0a5) (10.2.0)\n",
      "Requirement already satisfied: pyparsing>=2.3.1 in /home/ec2-user/anaconda3/envs/python3/lib/python3.10/site-packages (from matplotlib->stable-baselines3==2.0.0a5) (3.1.1)\n",
      "Requirement already satisfied: python-dateutil>=2.7 in /home/ec2-user/anaconda3/envs/python3/lib/python3.10/site-packages (from matplotlib->stable-baselines3==2.0.0a5) (2.8.2)\n",
      "Requirement already satisfied: pytz>=2020.1 in /home/ec2-user/anaconda3/envs/python3/lib/python3.10/site-packages (from pandas->stable-baselines3==2.0.0a5) (2024.1)\n",
      "Requirement already satisfied: tzdata>=2022.7 in /home/ec2-user/anaconda3/envs/python3/lib/python3.10/site-packages (from pandas->stable-baselines3==2.0.0a5) (2024.1)\n",
      "Requirement already satisfied: six>=1.5 in /home/ec2-user/anaconda3/envs/python3/lib/python3.10/site-packages (from python-dateutil>=2.7->matplotlib->stable-baselines3==2.0.0a5) (1.16.0)\n",
      "Requirement already satisfied: MarkupSafe>=2.0 in /home/ec2-user/anaconda3/envs/python3/lib/python3.10/site-packages (from jinja2->torch>=1.11->stable-baselines3==2.0.0a5) (2.1.5)\n",
      "Requirement already satisfied: mpmath>=0.19 in /home/ec2-user/anaconda3/envs/python3/lib/python3.10/site-packages (from sympy->torch>=1.11->stable-baselines3==2.0.0a5) (1.3.0)\n",
      "Collecting opencv-python\n",
      "  Downloading opencv_python-4.9.0.80-cp37-abi3-manylinux_2_17_x86_64.manylinux2014_x86_64.whl.metadata (20 kB)\n",
      "Requirement already satisfied: numpy>=1.21.2 in /home/ec2-user/anaconda3/envs/python3/lib/python3.10/site-packages (from opencv-python) (1.22.4)\n",
      "Downloading opencv_python-4.9.0.80-cp37-abi3-manylinux_2_17_x86_64.manylinux2014_x86_64.whl (62.2 MB)\n",
      "\u001b[2K   \u001b[90m━━━━━━━━━━━━━━━━━━━━━━━━━━━━━━━━━━━━━━━━\u001b[0m \u001b[32m62.2/62.2 MB\u001b[0m \u001b[31m25.5 MB/s\u001b[0m eta \u001b[36m0:00:00\u001b[0m:00:01\u001b[0m00:01\u001b[0m\n",
      "\u001b[?25hInstalling collected packages: opencv-python\n",
      "Successfully installed opencv-python-4.9.0.80\n"
     ]
    }
   ],
   "source": [
    "!pip install swig\n",
    "!pip install stable-baselines3==2.0.0a5 gymnasium[box2d]\n",
    "!pip install opencv-python"
   ]
  },
  {
   "cell_type": "code",
   "execution_count": 2,
   "id": "1d5e7bac-c2b9-4708-a101-2b1de1dce471",
   "metadata": {
    "tags": []
   },
   "outputs": [
    {
     "name": "stdout",
     "output_type": "stream",
     "text": [
      "sudo: apt-get: command not found\n",
      "sudo: apt: command not found\n"
     ]
    }
   ],
   "source": [
    "!chmod +x ./utils/install_ffmpeg.sh\n",
    "!sudo ./utils/install_ffmpeg.sh"
   ]
  },
  {
   "cell_type": "code",
   "execution_count": 1,
   "id": "1fb987fe-f25f-4a06-a9fa-90bf9da552fa",
   "metadata": {
    "tags": []
   },
   "outputs": [],
   "source": [
    "import cv2\n",
    "import numpy as np\n",
    "import gymnasium as gym\n",
    "from utils.video_render import render\n",
    "\n",
    "def random_action(env):\n",
    "    return env.action_space.sample()\n",
    "\n",
    "render(random_action, './ran.mp4')"
   ]
  },
  {
   "cell_type": "code",
   "execution_count": 3,
   "id": "dac9c396-a380-48b5-bded-9ce718eca4ed",
   "metadata": {
    "tags": []
   },
   "outputs": [],
   "source": [
    "!ffmpeg -hide_banner -loglevel error -y -i ran.mp4 rant.mp4"
   ]
  },
  {
   "cell_type": "code",
   "execution_count": 6,
   "id": "45ddb0b5-82ac-46d5-ba52-22d5afeb34c3",
   "metadata": {
    "tags": []
   },
   "outputs": [
    {
     "data": {
      "text/html": [
       "<video src=\"./rant.mp4\" controls  >\n",
       "      Your browser does not support the <code>video</code> element.\n",
       "    </video>"
      ],
      "text/plain": [
       "<IPython.core.display.Video object>"
      ]
     },
     "execution_count": 6,
     "metadata": {},
     "output_type": "execute_result"
    }
   ],
   "source": [
    "from IPython.display import Video\n",
    "\n",
    "# Display a video file\n",
    "Video(\"./rant.mp4\")"
   ]
  },
  {
   "cell_type": "code",
   "execution_count": 25,
   "id": "bc698223-4036-4f5c-8426-b75104e8ac7e",
   "metadata": {
    "tags": []
   },
   "outputs": [],
   "source": [
    "from sagemaker.estimator import Estimator\n",
    "import sagemaker\n",
    "\n",
    "session = sagemaker.Session()\n",
    "\n",
    "metric_definitions = [\n",
    "    {'Name': 'ep_len_mean', 'Regex': 'ep_len_mean\\s*\\|\\s*([\\d\\.]+)'},\n",
    "    {'Name': 'ep_rew_mean', 'Regex': 'ep_rew_mean\\s*\\|\\s*(-?[\\d\\.]+)'}\n",
    "]\n",
    "\n",
    "estimator = Estimator(\n",
    "    role=,\n",
    "    image_uri=,\n",
    "    instance_count=1,\n",
    "    instance_type=\"ml.g4dn.xlarge\",\n",
    "    output_path=,\n",
    "    session=session,\n",
    "    hyperparameters = {\n",
    "        'seed': 42,\n",
    "        'total_timesteps': 200000\n",
    "    },\n",
    "    metric_definitions = metric_definitions,\n",
    "    #keep_alive_period_in_seconds=600\n",
    ")"
   ]
  },
  {
   "cell_type": "code",
   "execution_count": null,
   "id": "1d726036-e102-412d-b415-a1de78ebe546",
   "metadata": {
    "tags": []
   },
   "outputs": [],
   "source": [
    "training_job_name = 'training-lunar-lander-180424-7'\n",
    "estimator.fit(job_name=training_job_name)"
   ]
  },
  {
   "cell_type": "code",
   "execution_count": 28,
   "id": "63326698-c756-444d-8532-6e8d370151bb",
   "metadata": {
    "tags": []
   },
   "outputs": [],
   "source": [
    "import boto3\n",
    "s3 = boto3.client('s3')\n",
    "s3.download_file('aws-samples-avt', f'{training_job_name}/output/model.tar.gz', 'model.tar.gz')"
   ]
  },
  {
   "cell_type": "code",
   "execution_count": 27,
   "id": "904b649c-9dd5-4355-8330-ab22d2f3dc81",
   "metadata": {
    "tags": []
   },
   "outputs": [
    {
     "data": {
      "text/plain": [
       "2"
      ]
     },
     "execution_count": 27,
     "metadata": {},
     "output_type": "execute_result"
    }
   ],
   "source": [
    "1+1"
   ]
  },
  {
   "cell_type": "code",
   "execution_count": 29,
   "id": "e77f33b9-3c7c-4062-b68a-236350bbfc20",
   "metadata": {
    "tags": []
   },
   "outputs": [
    {
     "name": "stdout",
     "output_type": "stream",
     "text": [
      "tar: Ignoring unknown extended header keyword `LIBARCHIVE.creationtime'\n"
     ]
    }
   ],
   "source": [
    "!tar -xzf model.tar.gz"
   ]
  },
  {
   "cell_type": "code",
   "execution_count": 30,
   "id": "74ebda0a-0a71-4fef-b548-2437ffeee51d",
   "metadata": {},
   "outputs": [
    {
     "name": "stderr",
     "output_type": "stream",
     "text": [
      "/home/ec2-user/anaconda3/envs/python3/lib/python3.10/site-packages/stable_baselines3/common/save_util.py:166: UserWarning: Could not deserialize object clip_range. Consider using `custom_objects` argument to replace this object.\n",
      "Exception: Can't get attribute '_function_setstate' on <module 'cloudpickle.cloudpickle' from '/home/ec2-user/anaconda3/envs/python3/lib/python3.10/site-packages/cloudpickle/cloudpickle.py'>\n",
      "  warnings.warn(\n",
      "/home/ec2-user/anaconda3/envs/python3/lib/python3.10/site-packages/stable_baselines3/common/save_util.py:166: UserWarning: Could not deserialize object lr_schedule. Consider using `custom_objects` argument to replace this object.\n",
      "Exception: Can't get attribute '_function_setstate' on <module 'cloudpickle.cloudpickle' from '/home/ec2-user/anaconda3/envs/python3/lib/python3.10/site-packages/cloudpickle/cloudpickle.py'>\n",
      "  warnings.warn(\n"
     ]
    }
   ],
   "source": [
    "from stable_baselines3 import PPO\n",
    "import gymnasium as gym\n",
    "\n",
    "\n",
    "model = PPO.load('model.zip')"
   ]
  },
  {
   "cell_type": "code",
   "execution_count": 31,
   "id": "3f0bd4a6-e226-43dc-9423-a5f14e050e1d",
   "metadata": {
    "tags": []
   },
   "outputs": [
    {
     "data": {
      "text/plain": [
       "(array(3), None)"
      ]
     },
     "execution_count": 31,
     "metadata": {},
     "output_type": "execute_result"
    }
   ],
   "source": [
    "model.predict([-0.00413122,  1.4037752 , -0.41847086, -0.31756085,  0.0047939 ,\n",
    "        0.0947897 ,  0.        ,  0.        ])"
   ]
  },
  {
   "cell_type": "code",
   "execution_count": null,
   "id": "bbd21fb2-6307-4d5e-a60d-db3af9724bc5",
   "metadata": {},
   "outputs": [],
   "source": []
  }
 ],
 "metadata": {
  "kernelspec": {
   "display_name": "conda_python3",
   "language": "python",
   "name": "conda_python3"
  },
  "language_info": {
   "codemirror_mode": {
    "name": "ipython",
    "version": 3
   },
   "file_extension": ".py",
   "mimetype": "text/x-python",
   "name": "python",
   "nbconvert_exporter": "python",
   "pygments_lexer": "ipython3",
   "version": "3.10.13"
  }
 },
 "nbformat": 4,
 "nbformat_minor": 5
}
