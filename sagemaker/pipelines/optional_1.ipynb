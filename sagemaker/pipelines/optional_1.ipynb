{
 "cells": [
  {
   "cell_type": "markdown",
   "id": "57ceb016-d5c8-47f1-b03b-074d17dbd45b",
   "metadata": {},
   "source": [
    "# Retain and reuse infrastructure: SageMaker Warm Pools\n",
    "\n",
    "In this brief and optional module, we will take a look to SageMaker Warm Pools. They allow you to retain and reuse provisioned infrastructure after completing a training job. This reduces latency for repetitive tasks, such as iterative experimentation or consecutive jobs, by avoiding the time-consuming process of resource provisioning.\n",
    "\n",
    "In this notebook, we will utilize the same training job structure and dataset from [unit 1](./unit_1.ipynb) to demonstrate the use of SageMaker Warm Pools. The primary difference is the addition of a new variable to the `Estimator`, which is responsible for activating the warm pool."
   ]
  },
  {
   "cell_type": "markdown",
   "id": "e262844c-d20c-4050-9b33-bd78cd95101c",
   "metadata": {},
   "source": [
    "## Setup"
   ]
  },
  {
   "cell_type": "code",
   "execution_count": 1,
   "id": "1b790d9a-cc77-485a-9df8-f57062187386",
   "metadata": {
    "tags": []
   },
   "outputs": [
    {
     "name": "stdout",
     "output_type": "stream",
     "text": [
      "sagemaker.config INFO - Not applying SDK defaults from location: /etc/xdg/sagemaker/config.yaml\n",
      "sagemaker.config INFO - Not applying SDK defaults from location: /home/ec2-user/.config/sagemaker/config.yaml\n",
      "This notebook was run with `sagemaker` v2.219.0\n"
     ]
    }
   ],
   "source": [
    "import sagemaker\n",
    "print(f'This notebook was run with `sagemaker` v{sagemaker.__version__}')"
   ]
  },
  {
   "cell_type": "code",
   "execution_count": 2,
   "id": "784b307e-5005-49fe-85a3-61d7c03e36ea",
   "metadata": {
    "tags": []
   },
   "outputs": [
    {
     "name": "stdout",
     "output_type": "stream",
     "text": [
      "Files uploaded to S3 successfully.\n",
      "Cleanup complete!\n"
     ]
    }
   ],
   "source": [
    "from utils.helpers import get_secret\n",
    "from utils.toy_datasets import upload_dataset_to_s3\n",
    "\n",
    "s3_bucket_uri = get_secret('s3_bucket_uri')\n",
    "s3_bucket_name = get_secret('s3_bucket_name')\n",
    "role = get_secret('role_arn')\n",
    "session = sagemaker.Session()\n",
    "\n",
    "dataset_name = 'iris'\n",
    "upload_dataset_to_s3(dataset_name, s3_bucket_name)"
   ]
  },
  {
   "cell_type": "code",
   "execution_count": 3,
   "id": "39516d40-19af-4773-81c8-75e8d6b0d7cc",
   "metadata": {
    "tags": []
   },
   "outputs": [],
   "source": [
    "image_uri = sagemaker.image_uris.retrieve('xgboost', region='us-east-1', version='1.5-1')"
   ]
  },
  {
   "cell_type": "markdown",
   "id": "880a9d4c-8a17-4925-927e-bae0ed8f8739",
   "metadata": {},
   "source": [
    "<div style=\"border:2px solid #FFA500; padding: 10px; background-color: #FFF9C4; border-radius: 5px;\">\n",
    "    <b>IMPORTANT:</b>\n",
    "    To get started, you must first request a service limit increase for SageMaker managed warm pools. <b>The default resource limit for warm pools is 0</b>. For more information about Service Quotas, click <a href=\"https://docs.aws.amazon.com/general/latest/gr/aws_service_limits.html\">here.</a></div><br>\n",
    "\n",
    "![](./img/warm_pool_quota.png)\n",
    "\n",
    "The `keep_alive_period_in_seconds` parameter is added to the `Estimator` to activate the warm pool feature, keeping the training instances warm for the specified duration. This setup allows us to quickly reuse the training instances for subsequent training jobs, significantly reducing the startup time and improving overall efficiency.\n",
    "\n",
    "<div style=\"border:2px solid #42A891; padding: 10px; background-color: #E0F2F1; border-radius: 5px;\">\n",
    "    <b>LEARN MORE:</b> The maximum `keep_alive_period_in_seconds` for a single training job is 3600 seconds (60 minutes) and the maximum length of time that a warm pool cluster can continue running consecutive training jobs is 28 days.\n",
    "Read more in the  <a href=\"https://docs.aws.amazon.com/sagemaker/latest/dg/train-warm-pools.html\">official documentation.</a>\n",
    "</div>"
   ]
  },
  {
   "cell_type": "code",
   "execution_count": 4,
   "id": "5a4fad6a-2d57-4cbf-98c9-169ed8cbf289",
   "metadata": {
    "tags": []
   },
   "outputs": [],
   "source": [
    "from sagemaker.inputs import TrainingInput\n",
    "from sagemaker.estimator import Estimator\n",
    "\n",
    "s3_train = TrainingInput(\n",
    "    s3_data=f's3://{s3_bucket_name}/iris_dataset/train_data.csv',\n",
    "    content_type='csv'\n",
    ")\n",
    "\n",
    "s3_validate = TrainingInput(\n",
    "    s3_data=f's3://{s3_bucket_name}/iris_dataset/test_data.csv',\n",
    "    content_type='csv'\n",
    ")\n",
    "\n",
    "training_inputs = {'train': s3_train, 'validation': s3_validate}\n",
    "\n",
    "estimator = Estimator(\n",
    "    image_uri=image_uri,\n",
    "    role=role,\n",
    "    instance_count=1,\n",
    "    instance_type=\"ml.m5.large\",\n",
    "    output_path=f\"{s3_bucket_uri}/pipelines-output\",\n",
    "    sagemaker_session=session,\n",
    "    base_job_name=\"iris-warm-pool-sm-xgboost\",\n",
    "    keep_alive_period_in_seconds=600 # Warm Pool activation\n",
    ")"
   ]
  },
  {
   "cell_type": "markdown",
   "id": "d89473b8-d012-4973-8d4a-f2b8c1ce4ccf",
   "metadata": {},
   "source": [
    "Now we will train the model. Note that after the training job is completed, SageMaker lets us know that the warm pool is active with the message `Completed - Resource retained for reuse`."
   ]
  },
  {
   "cell_type": "code",
   "execution_count": 5,
   "id": "2396097d-177c-4ffb-a43f-ad3a994d787b",
   "metadata": {
    "tags": []
   },
   "outputs": [
    {
     "name": "stderr",
     "output_type": "stream",
     "text": [
      "INFO:sagemaker:Creating training-job with name: iris-warm-pool-sm-xgboost-2024-06-12-17-54-01-815\n"
     ]
    },
    {
     "name": "stdout",
     "output_type": "stream",
     "text": [
      "\n",
      "2024-06-12 17:54:04 Starting - Starting the training job..\n",
      "2024-06-12 17:54:19 Starting - Preparing the instances for training.....\n",
      "2024-06-12 17:54:49 Downloading - Downloading input data........\n",
      "2024-06-12 17:55:34 Downloading - Downloading the training image..........\n",
      "2024-06-12 17:56:30 Training - Training image download completed. Training in progress..\n",
      "2024-06-12 17:56:40 Uploading - Uploading generated training model..\n",
      "2024-06-12 17:56:56 Completed - Resource retained for reuse\n"
     ]
    }
   ],
   "source": [
    "hyperparameters = {\n",
    "    \"max_depth\": 1,\n",
    "    \"objective\": \"multi:softmax\",\n",
    "    \"eval_metric\": \"mlogloss\",\n",
    "    \"num_class\": 3,\n",
    "    \"num_round\": 10\n",
    "}\n",
    "\n",
    "estimator.set_hyperparameters(**hyperparameters)\n",
    "\n",
    "estimator.fit(\n",
    "    training_inputs,\n",
    "    logs=False,\n",
    ")"
   ]
  },
  {
   "cell_type": "markdown",
   "id": "39f45ed6-dfdd-49ef-91ff-fbae6824d389",
   "metadata": {},
   "source": [
    "## Fetching and Printing Training Job Details\n",
    "\n",
    "After the training job completes, we can use `session.describe_training_job()` to retrieve details about the job. This includes the total duration, billable time, and warm pool status."
   ]
  },
  {
   "cell_type": "code",
   "execution_count": 6,
   "id": "d5abac6f-c242-4aea-8204-aa7156ae4c7b",
   "metadata": {
    "tags": []
   },
   "outputs": [],
   "source": [
    "first_job_name = estimator.latest_training_job.job_name\n",
    "training_job_description = session.describe_training_job(first_job_name)"
   ]
  },
  {
   "cell_type": "code",
   "execution_count": 7,
   "id": "6b5b42ab-fac2-4994-9002-874f337ed287",
   "metadata": {
    "tags": []
   },
   "outputs": [
    {
     "name": "stdout",
     "output_type": "stream",
     "text": [
      "Training job duration: 171 seconds\n",
      "Billable time in seconds: 124\n",
      "Warm Pool: {'Status': 'Available'}\n",
      "- Alive Period In Seconds: 600\n"
     ]
    }
   ],
   "source": [
    "# It takes a couple of seconds for WarmPoolStatus info to be available\n",
    "t = training_job_description['TrainingEndTime'] - training_job_description['CreationTime']\n",
    "print(f\"Training job duration: {t.seconds} seconds\")\n",
    "print(\"Billable time in seconds:\", training_job_description['BillableTimeInSeconds'])\n",
    "print(\"Warm Pool:\", training_job_description['WarmPoolStatus'])\n",
    "print(\"- Alive Period In Seconds:\", training_job_description['ResourceConfig']['KeepAlivePeriodInSeconds'])"
   ]
  },
  {
   "cell_type": "markdown",
   "id": "001b885d-fc5b-4024-8c99-06aa207796b4",
   "metadata": {},
   "source": [
    "The following timeline shows the different stages of the training job:\n",
    "\n",
    "| Time                   | Status    | Message                                      |\n",
    "|------------------------|-----------|----------------------------------------------|\n",
    "| 2024-06-12 17:54:04    | Starting  | Starting the training job..                  |\n",
    "| 2024-06-12 17:54:19    | Starting  | Preparing the instances for training.....    |\n",
    "| 2024-06-12 17:54:49    | Downloading | Downloading input data........               |\n",
    "| 2024-06-12 17:55:34    | Downloading | Downloading the training image..........     |\n",
    "| 2024-06-12 17:56:30    | Training  | Training image download completed. Training in progress.. |\n",
    "| 2024-06-12 17:56:40    | Uploading | Uploading generated training model..         |\n",
    "| 2024-06-12 17:56:56    | Completed | Resource retained for reuse                  |\n",
    "\n",
    "As you can see, billing starts from the moment the instance is prepared for training and the downloading process begins. It takes almost a minute to download the training image. This cost can be reduced with Warm Pools, as the image remains ready for training. Additionally, although the initial preparation of the instance is not billed, you can save significant time at the beginning of a training job since the instance preparation with Warm Pools is much faster."
   ]
  },
  {
   "cell_type": "markdown",
   "id": "988d2ef3-d66d-40bc-9ea1-d5dac9b468af",
   "metadata": {},
   "source": [
    "## Updating the Keep Alive Period\n",
    "\n",
    "You can update the `KeepAlivePeriodInSeconds` for a training job using the `session.update_training_job` method. Note that the maximum value for `KeepAlivePeriodInSeconds` is 3600 seconds (1 hour). Updating the training job does not reset the timer to 3600 seconds, but it subtracts the time that has already elapsed from the new keep-alive period.\n",
    "\n",
    "![](./img/warm_pool_600.png)"
   ]
  },
  {
   "cell_type": "code",
   "execution_count": 8,
   "id": "c30fbb29-d86f-417b-b610-f98984cc5f18",
   "metadata": {
    "tags": []
   },
   "outputs": [
    {
     "name": "stderr",
     "output_type": "stream",
     "text": [
      "INFO:sagemaker:Updating training job with name iris-warm-pool-sm-xgboost-2024-06-12-17-54-01-815\n"
     ]
    }
   ],
   "source": [
    "session.update_training_job(first_job_name, resource_config={\"KeepAlivePeriodInSeconds\":3600})"
   ]
  },
  {
   "cell_type": "markdown",
   "id": "83be62c8-8cc8-4c82-a430-0d82f94f7c42",
   "metadata": {},
   "source": [
    "![](./img/warm_pool_3600.png)"
   ]
  },
  {
   "cell_type": "markdown",
   "id": "2570b779-9eb3-46b5-9983-d4a02947e466",
   "metadata": {},
   "source": [
    "## Training Multiple Models with Varying Hyperparameters\n",
    "\n",
    "Now we will train several models, varying the `max_depth` hyperparameter. The goal is to observe how the training time is reduced due to the use of the warm pool.\n",
    "\n"
   ]
  },
  {
   "cell_type": "code",
   "execution_count": null,
   "id": "9be21dc0-12d0-423a-883f-19e4ba05ef80",
   "metadata": {
    "tags": []
   },
   "outputs": [
    {
     "name": "stderr",
     "output_type": "stream",
     "text": [
      "INFO:sagemaker:Creating training-job with name: iris-warm-pool-sm-xgboost-2024-06-12-17-58-34-101\n"
     ]
    },
    {
     "name": "stdout",
     "output_type": "stream",
     "text": [
      "[INFO] Training XGBoost with max_depth=2\n",
      "2024-06-12 17:58:38 Starting - Found matching resource for reuse\n",
      "2024-06-12 17:58:38 Downloading - Downloading input data...\n",
      "2024-06-12 17:58:58 Training - Training image download completed. Training in progress..\n",
      "2024-06-12 17:59:06 Uploading - Uploading generated training model.\n",
      "2024-06-12 17:59:19 Completed - Training job completed"
     ]
    },
    {
     "name": "stderr",
     "output_type": "stream",
     "text": [
      "INFO:sagemaker:Creating training-job with name: iris-warm-pool-sm-xgboost-2024-06-12-17-59-19-897\n"
     ]
    },
    {
     "name": "stdout",
     "output_type": "stream",
     "text": [
      "\n",
      "[INFO] Training job duration: 44 seconds\n",
      "[INFO] Billable time: 40 seconds\n",
      "[INFO] Training XGBoost with max_depth=3\n",
      "2024-06-12 17:59:23 Starting - Found matching resource for reuse\n",
      "2024-06-12 17:59:23 Downloading - Downloading input data...\n",
      "2024-06-12 17:59:44 Training - Training image download completed. Training in progress..\n",
      "2024-06-12 17:59:54 Uploading - Uploading generated training model..\n",
      "2024-06-12 18:00:08 Completed - Resource retained for reuse"
     ]
    },
    {
     "name": "stderr",
     "output_type": "stream",
     "text": [
      "INFO:sagemaker:Creating training-job with name: iris-warm-pool-sm-xgboost-2024-06-12-18-00-10-720\n"
     ]
    },
    {
     "name": "stdout",
     "output_type": "stream",
     "text": [
      "\n",
      "[INFO] Training job duration: 47 seconds\n",
      "[INFO] Billable time: 44 seconds\n",
      "[INFO] Training XGBoost with max_depth=4\n",
      "2024-06-12 18:00:10 Starting - Starting the training job.......\n",
      "2024-06-12 18:00:53 Downloading - Downloading input data....\n",
      "2024-06-12 18:01:19 Training - Training image download completed. Training in progress..\n",
      "2024-06-12 18:01:29 Uploading - Uploading generated training model..\n",
      "2024-06-12 18:01:44 Completed - Resource retained for reuse"
     ]
    },
    {
     "name": "stderr",
     "output_type": "stream",
     "text": [
      "INFO:sagemaker:Creating training-job with name: iris-warm-pool-sm-xgboost-2024-06-12-18-01-46-971\n"
     ]
    },
    {
     "name": "stdout",
     "output_type": "stream",
     "text": [
      "\n",
      "[INFO] Training job duration: 91 seconds\n",
      "[INFO] Billable time: 49 seconds\n",
      "[INFO] Training XGBoost with max_depth=5\n",
      "2024-06-12 18:01:51 Starting - Found matching resource for reuse\n",
      "2024-06-12 18:01:51 Downloading - Downloading input data....\n",
      "2024-06-12 18:02:17 Downloading - Downloading the training image\n",
      "2024-06-12 18:02:18 Training - Training image download completed. Training in progress..\n",
      "2024-06-12 18:02:28 Uploading - Uploading generated training model.\n",
      "2024-06-12 18:02:42 Completed - Resource retained for reuse\n",
      "[INFO] Training job duration: 54 seconds\n",
      "[INFO] Billable time: 50 seconds\n"
     ]
    }
   ],
   "source": [
    "for max_depth in [2, 3, 4, 5]:\n",
    "    \n",
    "    print(f\"[INFO] Training XGBoost with max_depth={max_depth}\", end='')\n",
    "    hyperparameters[\"max_depth\"] = max_depth\n",
    "    \n",
    "    estimator.set_hyperparameters(**hyperparameters)\n",
    "    \n",
    "    estimator.fit(\n",
    "        training_inputs,\n",
    "        logs=False,\n",
    "    )\n",
    "    \n",
    "    last_job_name = estimator.latest_training_job.job_name\n",
    "    training_job_description = session.describe_training_job(estimator.latest_training_job.job_name)\n",
    "    t = training_job_description['TrainingEndTime'] - training_job_description['CreationTime']\n",
    "\n",
    "    print(f\"[INFO] Training job duration: {t.seconds} seconds\")\n",
    "    print(f\"[INFO] Billable time: {training_job_description['BillableTimeInSeconds']} seconds\")\n"
   ]
  },
  {
   "cell_type": "markdown",
   "id": "ec545111-ba83-4fbe-8c56-6132d90d96d3",
   "metadata": {},
   "source": [
    "As you can see, the training job time went significantly down.\n",
    "\n",
    "![](./img/warm_pool_comparison.png)\n",
    "\n",
    "Keep in mind that you are also billed for the time that the resouce was retained, so if you're done with your experiments, you can update the last training job and manually terminate the warm pool like this:"
   ]
  },
  {
   "cell_type": "code",
   "execution_count": 10,
   "id": "947fa7d0-5158-4a9e-b669-2a9051f7ad0a",
   "metadata": {
    "tags": []
   },
   "outputs": [
    {
     "name": "stderr",
     "output_type": "stream",
     "text": [
      "INFO:sagemaker:Updating training job with name iris-warm-pool-sm-xgboost-2024-06-12-18-01-46-971\n"
     ]
    }
   ],
   "source": [
    "last_job_name = estimator.latest_training_job.job_name\n",
    "session.update_training_job(last_job_name, resource_config={\"KeepAlivePeriodInSeconds\":0})"
   ]
  },
  {
   "cell_type": "markdown",
   "id": "4dc3f5d3-7547-419c-82ea-463c7b23f194",
   "metadata": {},
   "source": [
    "This will ensure that you are not billed for unnecessary retention time. You can check the retention time for every training job by checking the `WarmPoolStatus`. Here we will check the status of the first training job. The status went from `Active` (after the first training job was completed) to `Reused` (after the second training job was started)."
   ]
  },
  {
   "cell_type": "code",
   "execution_count": 11,
   "id": "86b56803-a573-4e92-b766-9804821e4900",
   "metadata": {
    "tags": []
   },
   "outputs": [
    {
     "data": {
      "text/plain": [
       "{'Status': 'Reused',\n",
       " 'ResourceRetainedBillableTimeInSeconds': 97,\n",
       " 'ReusedByJob': 'iris-warm-pool-sm-xgboost-2024-06-12-17-58-34-101'}"
      ]
     },
     "execution_count": 11,
     "metadata": {},
     "output_type": "execute_result"
    }
   ],
   "source": [
    "session.describe_training_job(first_job_name)['WarmPoolStatus']"
   ]
  },
  {
   "cell_type": "code",
   "execution_count": null,
   "id": "cbc658ba-3e94-4e56-9161-1e42322a8cc1",
   "metadata": {},
   "outputs": [],
   "source": []
  }
 ],
 "metadata": {
  "kernelspec": {
   "display_name": "conda_tensorflow2_p310",
   "language": "python",
   "name": "conda_tensorflow2_p310"
  },
  "language_info": {
   "codemirror_mode": {
    "name": "ipython",
    "version": 3
   },
   "file_extension": ".py",
   "mimetype": "text/x-python",
   "name": "python",
   "nbconvert_exporter": "python",
   "pygments_lexer": "ipython3",
   "version": "3.10.14"
  }
 },
 "nbformat": 4,
 "nbformat_minor": 5
}
