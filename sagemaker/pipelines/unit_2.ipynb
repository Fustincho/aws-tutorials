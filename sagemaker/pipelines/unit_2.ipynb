{
 "cells": [
  {
   "cell_type": "markdown",
   "id": "e87eaf55-d888-4db8-a2bd-dd76bbb6ee8c",
   "metadata": {},
   "source": [
    "# Amazon SageMaker Pipelines: Introduction\n",
    "\n",
    "Amazon SageMaker Pipelines enable the creation and management of automated workflows for machine learning models. By defining steps and organizing them logically, SageMaker Pipelines streamline the process of building, training, tuning, and deploying machine learning models at scale. These steps can encompass a wide range of tasks, from data preparation and processing to model training and deployment.\n",
    "\n",
    "In Unit Two, we will continue building on the foundation established in unit 1 by reloading the essential components and configurations necessary for working with Amazon SageMaker. This includes importing the SageMaker library and essential utility functions, initializing the SageMaker session, and retrieving crucial configurations such as the AWS role ARN and S3 bucket details through helper functions. We will also reuse the XGBoost Docker image to ensure consistency in our environment setup."
   ]
  },
  {
   "cell_type": "code",
   "execution_count": null,
   "id": "c8e09a8b-bf2a-40f1-8519-e7729c1fb01e",
   "metadata": {
    "tags": []
   },
   "outputs": [],
   "source": [
    "import sagemaker\n",
    "from utils.helpers import get_secret\n",
    "\n",
    "session = sagemaker.Session()\n",
    "role = get_secret('role_arn')\n",
    "s3_bucket_uri = get_secret('s3_bucket_uri')\n",
    "s3_bucket_name = get_secret('s3_bucket_name')\n",
    "\n",
    "image_uri = sagemaker.image_uris.retrieve('xgboost',\n",
    "                                          region='us-east-1',\n",
    "                                          version='1.5-1')"
   ]
  },
  {
   "cell_type": "markdown",
   "id": "40ab7047-e57d-4e46-b61c-76164b5a7f07",
   "metadata": {},
   "source": [
    "In Unit 1, we utilized the `upload_dataset_to_s3` function to upload the Iris dataset to Amazon S3. This dataset serves as a foundational element for our machine learning tasks with Amazon SageMaker. If you haven't already executed the following lines in your environment, please do so before proceeding further in this unit:\n",
    "\n",
    "```python\n",
    "from utils.helpers import upload_dataset_to_s3\n",
    "dataset_name = 'iris'\n",
    "upload_dataset_to_s3(dataset_name, s3_bucket_name)\n",
    "```\n"
   ]
  },
  {
   "cell_type": "markdown",
   "id": "eb222c0d-cbb6-495d-8a49-2fec7ac47bde",
   "metadata": {
    "tags": []
   },
   "source": [
    "Initializing a PipelineSession with `pipeline_session = PipelineSession()` from the `sagemaker.workflow.pipeline_context` module equips you with a specialized session designed for Amazon SageMaker Pipelines. This session extends the standard SageMaker `Session`, adding functionalities tailored for managing machine learning pipelines."
   ]
  },
  {
   "cell_type": "code",
   "execution_count": null,
   "id": "5fd82954-ce54-423f-9e7c-824123ac372d",
   "metadata": {
    "tags": []
   },
   "outputs": [],
   "source": [
    "from sagemaker.workflow.pipeline_context import PipelineSession\n",
    "\n",
    "pipeline_session = PipelineSession()"
   ]
  },
  {
   "cell_type": "markdown",
   "id": "1f2da9a1-c505-4ee5-b406-92ede97e68de",
   "metadata": {},
   "source": [
    "Configuring an `Estimator` with `sagemaker_session=pipeline_session` customizes it for SageMaker Pipelines integration. This approach renders the estimator *\"pipeline-aware\"*, enhancing its compatibility with pipeline-specific features such as resource optimization, seamless execution dependencies, artifact management, and support for conditional executions and parallelism. The rest of the following snippet is identical to unit 1."
   ]
  },
  {
   "cell_type": "code",
   "execution_count": null,
   "id": "6f2b5bc9-946d-4ad6-9ff8-374e789d445e",
   "metadata": {
    "tags": []
   },
   "outputs": [],
   "source": [
    "from sagemaker.inputs import TrainingInput\n",
    "\n",
    "estimator = sagemaker.estimator.Estimator(\n",
    "    image_uri=image_uri,\n",
    "    role=role,\n",
    "    instance_count=1,\n",
    "    instance_type=\"ml.m5.large\",\n",
    "    output_path=f\"{s3_bucket_uri}/pipelines-output\",\n",
    "    sagemaker_session=pipeline_session\n",
    ")\n",
    "\n",
    "estimator.set_hyperparameters(\n",
    "    max_depth=5,\n",
    "    objective='multi:softmax',\n",
    "    num_class=3,\n",
    "    num_round=10\n",
    ")\n",
    "\n",
    "s3_train = TrainingInput(\n",
    "    s3_data=f's3://{s3_bucket_name}/iris_dataset/train_data.csv',\n",
    "    content_type='csv'\n",
    ")\n",
    "\n",
    "s3_validate = TrainingInput(\n",
    "    s3_data=f's3://{s3_bucket_name}/iris_dataset/test_data.csv',\n",
    "    content_type='csv'\n",
    ")"
   ]
  },
  {
   "cell_type": "markdown",
   "id": "e97e2e34-c4ef-41a2-bc19-88b79c7a6da7",
   "metadata": {
    "tags": []
   },
   "source": [
    "## Basic Pipeline\n",
    "\n",
    "We'll explore a basic yet fundamental workflow within SageMaker Pipelines, starting with two primary steps: `TrainingStep` and `ModelStep`. \n",
    "\n",
    "![Basic pipeline](./img/basic_pipeline.png)\n",
    "\n",
    "The objective here is straightforward but fundamental in the machine learning lifecycle:\n",
    "\n",
    "- `TrainingStep`: This step involves training a machine learning model using the provided dataset and chosen algorithm within SageMaker. The training process adjusts the model's parameters to minimize the error in predictions, effectively learning from the training data.\n",
    "\n",
    "- `ModelStep`: Following the successful training of the model, the next step is to register this model within SageMaker's Model Registry. **The Model Registry is a centralized repository for managing models, where each model version is tracked, cataloged, and versioned**. Automating the transition from training to registration ensures that once a model is trained, it can be easily and systematically stored, versioned, and later retrieved for deployment or further analysis.\n",
    "\n",
    "More information about all available pipeline steps is found [here](https://docs.aws.amazon.com/sagemaker/latest/dg/build-and-manage-steps.html)."
   ]
  },
  {
   "cell_type": "code",
   "execution_count": null,
   "id": "df75d237-a8b6-4443-9f05-3826ee98d1d0",
   "metadata": {
    "tags": []
   },
   "outputs": [],
   "source": [
    "from sagemaker.workflow.steps import TrainingStep\n",
    "\n",
    "training_step = TrainingStep(\n",
    "    name='training-step',\n",
    "    step_args=estimator.fit({\n",
    "                'train': s3_train,\n",
    "                'validation': s3_validate\n",
    "    })\n",
    ")"
   ]
  },
  {
   "cell_type": "markdown",
   "id": "2981fef3-9dca-4b8d-af75-2d6b4f365d13",
   "metadata": {},
   "source": [
    "As the warning indicates, defining a `TrainingStep` within the pipeline doesn't immediately start a training job as calling `estimator.fit()` outside of a pipeline does (Unit 1). Instead, it specifies a part of the workflow for later execution."
   ]
  },
  {
   "cell_type": "markdown",
   "id": "86ba2772-3369-4e10-bd6a-e1df85327537",
   "metadata": {},
   "source": [
    "The `Model` class is used to represent a machine learning model. Here are some of the key functionalities:\n",
    "\n",
    "- **Model Artifacts:** it allows you to specify the location of the model artifacts. These are the output of your training job, stored in Amazon S3.\n",
    "\n",
    "- **Inference Code:** you can define the Docker image that contains your inference code. This can be a default image provided by SageMaker for common machine learning frameworks (like TensorFlow, PyTorch, MXNet, etc.) or a custom Docker image that you have created.\n",
    "\n",
    "- **Environment Variables:** the class allows you to set environment variables that your inference code might need for execution.\n",
    "\n",
    "- **Execution Role:** you specify an AWS IAM role that SageMaker assumes to perform tasks on your behalf, such as accessing your model artifacts and Docker images in S3 and ECR respectively.\n",
    "\n",
    "- **Deploy:** one of the most important functionalities is deploying your model to an endpoint. This involves creating an instance (or instances) of the model, which can then be used to perform real-time or batch predictions.\n",
    "\n",
    "- **Endpoint Configuration:** when deploying a model, you can specify the type and number of instances that you want to use for the endpoint, enabling you to scale your inference according to your needs."
   ]
  },
  {
   "cell_type": "code",
   "execution_count": null,
   "id": "d7e3f8f2-45f4-49c5-8120-558dd5423dc6",
   "metadata": {
    "tags": []
   },
   "outputs": [],
   "source": [
    "from sagemaker.model import Model\n",
    "\n",
    "model = Model(\n",
    "    image_uri=image_uri,\n",
    "    model_data=training_step.properties.ModelArtifacts.S3ModelArtifacts,\n",
    "    sagemaker_session=pipeline_session,\n",
    "    role=role\n",
    ")"
   ]
  },
  {
   "cell_type": "markdown",
   "id": "77ace6d3-a2cc-40da-9a79-d9007bfce599",
   "metadata": {},
   "source": [
    "`training_step.properties.ModelArtifacts.S3ModelArtifacts` is a reference used in Amazon SageMaker Pipelines to dynamically access the S3 location of the model artifacts generated by a training step. When you define a TrainingStep in a SageMaker Pipeline, it trains a model and outputs artifacts, such as the trained model parameters, to a specified S3 bucket."
   ]
  },
  {
   "cell_type": "markdown",
   "id": "9afc74e7-ac9c-4b1b-b1b5-bc4374144007",
   "metadata": {},
   "source": [
    "The `register` [method](https://sagemaker.readthedocs.io/en/stable/api/inference/model.html#sagemaker.model.Model.register) is used to register a model in the SageMaker Model Registry. The Model Registry is a centralized repository for managing models, allowing you to catalog, version, and manage models systematically across your organization. By registering a model, you can track its versions, metadata, and lineage, which facilitates model governance, auditing, and collaboration among teams."
   ]
  },
  {
   "cell_type": "code",
   "execution_count": null,
   "id": "99c143ff-d3bd-40bd-88c7-741edaf35fca",
   "metadata": {
    "tags": []
   },
   "outputs": [],
   "source": [
    "from sagemaker.workflow.model_step import ModelStep\n",
    "\n",
    "register_params = {\n",
    "    'model_package_group_name': 'iris-classification-group',\n",
    "    'description': 'XGBoost model for Iris classification',\n",
    "    'image_uri': image_uri,\n",
    "    'task': 'CLASSIFICATION'\n",
    "}\n",
    "\n",
    "register_model_step = ModelStep(\n",
    "    name='register-model-step',\n",
    "    step_args=model.register(**register_params)\n",
    ")"
   ]
  },
  {
   "cell_type": "markdown",
   "id": "56d54c78-637a-496b-81c0-cff90d0eee28",
   "metadata": {},
   "source": [
    "### Pipeline Creation\n",
    "\n",
    "The Pipeline object from sagemaker.workflow.pipeline is utilized to assemble these steps into a coherent workflow, facilitating the automation of model training and registration. It requires the pipeline name and the steps that compose it."
   ]
  },
  {
   "cell_type": "code",
   "execution_count": null,
   "id": "72f08175-c743-4c71-8157-8ce778cdab16",
   "metadata": {
    "tags": []
   },
   "outputs": [],
   "source": [
    "from sagemaker.workflow.pipeline import Pipeline\n",
    "\n",
    "pipeline = Pipeline(\n",
    "    name='iris-classification-pipeline',\n",
    "    steps=[training_step, register_model_step]\n",
    ")"
   ]
  },
  {
   "cell_type": "markdown",
   "id": "b9d3276d-96a8-4337-b993-aba92bd001e3",
   "metadata": {},
   "source": [
    "In this section, we configure and create the pipeline with specific settings for parallel execution and tagging:\n",
    "\n",
    "Parallelism Configuration: The parallelism_config dictionary is set with MaxParallelExecutionSteps: 5, . This optimizes the pipeline execution time by allowing multiple steps to run concurrently, up to the specified limit.\n",
    "\n",
    "- `role_arn`: specifies the AWS Identity and Access Management (IAM) role that SageMaker assumes to perform tasks on your behalf during pipeline execution.\n",
    "- `parallelism_config`: indicates the maximum number of steps that can be executed in parallel to 5.\n",
    "- `tags`: assigns metadata to the pipeline."
   ]
  },
  {
   "cell_type": "code",
   "execution_count": null,
   "id": "26dee899-7fa2-4ec3-a3dd-479aae42b388",
   "metadata": {
    "tags": []
   },
   "outputs": [],
   "source": [
    "parallelism_config = {\n",
    "    'MaxParallelExecutionSteps': 5\n",
    "}\n",
    "\n",
    "pipeline.create(\n",
    "    role_arn=role,\n",
    "    parallelism_config=parallelism_config,\n",
    "    tags=[\n",
    "        {'Key': 'Project', 'Value': 'AWSTutorials'},\n",
    "        {'Key': 'Environment', 'Value': 'Development'}\n",
    "    ]\n",
    ")"
   ]
  },
  {
   "cell_type": "markdown",
   "id": "71eba339-8870-47d2-a076-7fa5b95bf7e0",
   "metadata": {
    "tags": []
   },
   "source": [
    "To create a SageMaker pipeline from an already existing pipeline, you can reuse the pipeline name within a new `Pipeline` object instantiation.\n",
    "\n",
    "```python\n",
    "pipeline = Pipeline('iris-classification-model-pipeline', sagemaker_session=session)\n",
    "```\n",
    "\n",
    "To delete a pipeline, you utilize the delete() method on the pipeline object. This action removes the pipeline from SageMaker, along with its associated metadata and configurations.\n",
    "\n",
    "```python\n",
    "pipeline.delete()\n",
    "```\n",
    "---\n",
    "To initiate the execution of a SageMaker pipeline, you use the `start()`pipeline = Pipeline('iris-classification-model-pipeline', sagemaker_session=session)\n",
    " method on the pipeline object. "
   ]
  },
  {
   "cell_type": "code",
   "execution_count": null,
   "id": "e6078eae-2cf2-454f-86d2-244ebca010d9",
   "metadata": {
    "tags": []
   },
   "outputs": [],
   "source": [
    "pipeline.start(\n",
    "    execution_display_name='pipeline-execution',\n",
    "    execution_description='First Pipeline Execution'\n",
    ")"
   ]
  },
  {
   "cell_type": "markdown",
   "id": "62a37f19-2e18-4d63-a151-9bcc32f225dc",
   "metadata": {},
   "source": [
    "### Sagemaker Studio\n",
    "\n",
    "#### Pipeline Execution in SageMaker Studio\n",
    "\n",
    "After initiating the pipeline execution with the start() method and the given parameters, SageMaker Studio provides a visual representation and status update of the pipeline's progress.\n",
    "\n",
    "![](./img/pipelines_UI.png)\n",
    "\n",
    "- Execution Overview: The 'Executions' tab in SageMaker Studio displays a list of pipeline executions. In this case, the pipeline-execution is shown with a status of 'Succeeded', indicating a successful completion.\n",
    "\n",
    "- Execution Details: The 'Elapsed Time' shows the duration of the pipeline execution, which is '3m 40s' for the pipeline-execution. The 'Modified On' and 'Created On' timestamps provide auditability and tracking for the pipeline execution.\n",
    "\n",
    "#### Model Registry in SageMaker Studio\n",
    "\n",
    "The Model Registry interface in SageMaker Studio is designed to manage and track your models' versions systematically.\n",
    "\n",
    "![](./img/model_registry_UI.png)\n",
    "\n",
    "- Model Group Overview: The 'Models' tab showcases registered model groups.\n",
    "\n",
    "- Model Versions:The interface displays the versions of models within a group. For instance, 'Version 1' is currently showing a 'Pending manual approval' status, indicating that a human review is needed before this model version can be fully registered or deployed.\n",
    "\n",
    "- Tagging and Organization: The registry provides capabilities to search and tag models, which can help organize and retrieve models based on different criteria such as project, environment, or any other relevant identifiers."
   ]
  },
  {
   "cell_type": "code",
   "execution_count": 67,
   "id": "325af302-0f57-479a-afe6-55de31e30c69",
   "metadata": {
    "tags": []
   },
   "outputs": [
    {
     "data": {
      "text/plain": [
       "2"
      ]
     },
     "execution_count": 67,
     "metadata": {},
     "output_type": "execute_result"
    }
   ],
   "source": [
    "1+1"
   ]
  },
  {
   "cell_type": "code",
   "execution_count": null,
   "id": "eed0ccbd-27ab-4541-b8ae-3ae987cd1502",
   "metadata": {
    "tags": []
   },
   "outputs": [],
   "source": [
    "import boto3\n",
    "sm_client = boto3.client('sagemaker')"
   ]
  },
  {
   "cell_type": "code",
   "execution_count": null,
   "id": "27ffc0a1-3172-4a9c-9fd1-9c6f0d5027ef",
   "metadata": {
    "tags": []
   },
   "outputs": [],
   "source": [
    "# Call to list model packages\n",
    "response = sm_client.list_model_packages(ModelPackageGroupName='iris-classification-group')\n",
    "\n",
    "# Print the list of model packages\n",
    "for model_package in response['ModelPackageSummaryList']:\n",
    "    print(f\"Model Package Group Name: {model_package['ModelPackageGroupName']}\")\n",
    "    print(f\"Model Package ARN: {model_package['ModelPackageArn']}\")\n",
    "    print(f\"Model Package Version: {model_package.get('ModelPackageVersion', 'N/A')}\")\n",
    "    print(f\"Model Package Status: {model_package['ModelPackageStatus']}\")\n",
    "    print(\"------\")\n",
    "\n",
    "model_package_arn = response['ModelPackageSummaryList'][0]['ModelPackageArn']"
   ]
  },
  {
   "cell_type": "code",
   "execution_count": null,
   "id": "6130d9fc-bd12-4f13-8ce5-07a87b774e8b",
   "metadata": {
    "tags": []
   },
   "outputs": [],
   "source": [
    "from sagemaker import ModelPackage\n",
    "from sagemaker.serializers import CSVSerializer\n",
    "from sagemaker.deserializers import JSONDeserializer\n",
    "\n",
    "from sagemaker.predictor import Predictor\n",
    "\n",
    "model_package_arn = \"arn:aws:sagemaker:us-east-1:035665124469:model-package/iris-classification-group/1\"\n",
    "\n",
    "model = ModelPackage(\n",
    "    role=role,\n",
    "    model_package_arn=model_package_arn,\n",
    "    sagemaker_session=session,\n",
    "    predictor_cls=Predictor\n",
    ")\n",
    "\n",
    "predictor = model.deploy(\n",
    "    initial_instance_count=1,\n",
    "    instance_type='ml.t2.medium',\n",
    "    endpoint_name='iris-endpointss',\n",
    "    serializer=CSVSerializer(),\n",
    "    deserializer=JSONDeserializer()\n",
    ")"
   ]
  },
  {
   "cell_type": "code",
   "execution_count": null,
   "id": "182f239d-bd17-401e-9265-a5fa8978d855",
   "metadata": {},
   "outputs": [],
   "source": [
    "\n",
    "predictor = Predictor(\n",
    "    endpoint_name=endpoint_name,\n",
    "    serializer=CSVSerializer()\n",
    ")"
   ]
  },
  {
   "cell_type": "code",
   "execution_count": null,
   "id": "c6117c8d-dc17-4d68-b60b-29b89d011274",
   "metadata": {
    "tags": []
   },
   "outputs": [],
   "source": [
    "predictor"
   ]
  },
  {
   "cell_type": "code",
   "execution_count": null,
   "id": "6564b9af-d6db-4595-ad83-98f409602fd8",
   "metadata": {
    "tags": []
   },
   "outputs": [],
   "source": [
    "import json\n",
    "import boto3\n",
    "\n",
    "sagemaker_runtime = boto3.client('sagemaker-runtime')\n",
    "endpoint_name = 'iris-endpoints'\n",
    "response = sagemaker_runtime.invoke_endpoint(EndpointName=endpoint_name,\n",
    "                                             ContentType='text/csv',\n",
    "                                             Body=\"7.2, 3, 6, 1.6\")\n",
    "\n",
    "response['Body'].read()"
   ]
  },
  {
   "cell_type": "code",
   "execution_count": null,
   "id": "8dee7acd-4c54-470d-b44a-dc434955f835",
   "metadata": {
    "tags": []
   },
   "outputs": [],
   "source": [
    "predictor.predict([7.2, 3, 6, 1.6])"
   ]
  },
  {
   "cell_type": "markdown",
   "id": "7afc7110-12eb-472c-860e-1a17ad56f551",
   "metadata": {},
   "source": [
    "### Parameters"
   ]
  },
  {
   "cell_type": "code",
   "execution_count": null,
   "id": "af97df88-6658-4da2-8f05-bc70d1faec38",
   "metadata": {
    "tags": []
   },
   "outputs": [],
   "source": [
    "from sagemaker.workflow.parameters import (\n",
    "    ParameterString,\n",
    "    ParameterInteger\n",
    ")\n",
    "\n",
    "from sagemaker.workflow.functions import Join\n",
    "\n",
    "training_dataset_path = ParameterString(\n",
    "    name='Training_Set_Path',\n",
    "    default_value='train_data.csv'\n",
    ")\n",
    "\n",
    "s3_train = TrainingInput(\n",
    "    s3_data=Join(\n",
    "    on='/',\n",
    "    values=[\n",
    "        s3_bucket_uri,\n",
    "        'iris_dataset',\n",
    "        training_dataset_path\n",
    "        ]\n",
    "    ),\n",
    "    content_type='csv'\n",
    ")\n",
    "\n",
    "s3_validate = TrainingInput(\n",
    "    s3_data=f's3://{s3_bucket_name}/iris_dataset/test_data.csv',\n",
    "    content_type='csv'\n",
    ")"
   ]
  },
  {
   "cell_type": "code",
   "execution_count": null,
   "id": "d1d74e8d-1347-43bf-9b53-958a3c9a45b7",
   "metadata": {
    "tags": []
   },
   "outputs": [],
   "source": [
    "estimator = sagemaker.estimator.Estimator(\n",
    "    image_uri=image_uri,\n",
    "    role=role,\n",
    "    instance_count=1,\n",
    "    instance_type=\"ml.m5.large\",\n",
    "    output_path=f\"{s3_bucket_uri}/pipelines-output\",\n",
    "    sagemaker_session=pipeline_session\n",
    ")\n",
    "\n",
    "max_depth_param = ParameterInteger(name=\"max_depth\",\n",
    "                                   default_value=5)\n",
    "objective_param = ParameterString(name=\"objective\",\n",
    "                                  default_value='multi:softmax')\n",
    "num_class_param = ParameterInteger(name=\"num_class\",\n",
    "                                   default_value=3)\n",
    "num_round_param = ParameterInteger(name=\"num_round\",\n",
    "                                   default_value=10)\n",
    "\n",
    "estimator.set_hyperparameters(\n",
    "    max_depth=max_depth_param,\n",
    "    objective=objective_param,\n",
    "    num_class=num_class_param,\n",
    "    num_round=num_round_param\n",
    ")"
   ]
  },
  {
   "cell_type": "code",
   "execution_count": null,
   "id": "e914d932-3f84-44a2-8702-0ffc7f70709e",
   "metadata": {
    "tags": []
   },
   "outputs": [],
   "source": [
    "# Training step\n",
    "\n",
    "training_step = TrainingStep(\n",
    "    name='training-step',\n",
    "    step_args=estimator.fit({\n",
    "                'train': s3_train,\n",
    "                'validation': s3_validate\n",
    "    })\n",
    ")\n",
    "\n",
    "# Register step\n",
    "\n",
    "model = Model(\n",
    "    image_uri=image_uri,\n",
    "    model_data=training_step.properties.ModelArtifacts.S3ModelArtifacts,\n",
    "    sagemaker_session=pipeline_session,\n",
    "    role=role\n",
    ")\n",
    "\n",
    "register_params = {\n",
    "    'model_package_group_name': 'iris-classification-group',\n",
    "    'description': 'XGBoost model for Iris classification',\n",
    "    'image_uri': image_uri,\n",
    "    'task': 'CLASSIFICATION'\n",
    "}\n",
    "\n",
    "register_model_step = ModelStep(\n",
    "    name='register-model-step',\n",
    "    step_args=model.register(**register_params)\n",
    ")\n",
    "\n",
    "pipeline = Pipeline(\n",
    "    name='iris-pipeline-with-params',\n",
    "    steps=[training_step, register_model_step],\n",
    "    parameters=[\n",
    "        max_depth_param,\n",
    "        objective_param,\n",
    "        num_class_param,\n",
    "        num_round_param,\n",
    "        training_dataset_path\n",
    "    ]\n",
    ")\n",
    "\n",
    "parallelism_config = {\n",
    "    'MaxParallelExecutionSteps': 5\n",
    "}\n",
    "\n",
    "pipeline.create(\n",
    "    role_arn=role,\n",
    "    parallelism_config=parallelism_config,\n",
    "    tags=[\n",
    "        {'Key': 'Project', 'Value': 'AWSTutorials'},\n",
    "        {'Key': 'Environment', 'Value': 'Development'}\n",
    "    ]\n",
    ")\n",
    "\n",
    "pipeline.start(\n",
    "    execution_display_name='pipeline-execution',\n",
    "    execution_description='First Pipeline Execution'\n",
    ")"
   ]
  },
  {
   "cell_type": "markdown",
   "id": "e9e64907-175a-436a-9e7f-1ef61c3bf9b9",
   "metadata": {},
   "source": [
    "custom_parameter_values = {\n",
    "    'max_depth': 1,\n",
    "    'num_round': 50\n",
    "}\n",
    "\n",
    "### Start the pipeline execution with custom parameters\n",
    "execution = pipeline.start(\n",
    "    parameters=custom_parameter_values\n",
    ")"
   ]
  },
  {
   "cell_type": "code",
   "execution_count": null,
   "id": "20445062-434f-4aa1-b1ba-56633d4f1e1f",
   "metadata": {},
   "outputs": [],
   "source": [
    "validation:accuracy\n"
   ]
  },
  {
   "cell_type": "code",
   "execution_count": null,
   "id": "1474fe4d-b66c-4295-92ef-f8ee5f9d81af",
   "metadata": {
    "tags": []
   },
   "outputs": [],
   "source": []
  },
  {
   "cell_type": "code",
   "execution_count": null,
   "id": "03a767fd-8dd5-473b-8076-e9490e71c8d2",
   "metadata": {
    "tags": []
   },
   "outputs": [],
   "source": []
  },
  {
   "cell_type": "markdown",
   "id": "1a33c2ce-2ab4-439e-8472-0e394acba774",
   "metadata": {},
   "source": [
    "## Fail Steps"
   ]
  },
  {
   "cell_type": "code",
   "execution_count": null,
   "id": "5e5fe29b-9196-4c27-9bdd-bab23b091bd3",
   "metadata": {
    "tags": []
   },
   "outputs": [],
   "source": [
    "from sagemaker.workflow.fail_step import FailStep\n",
    "\n",
    "\n",
    "estimator = sagemaker.estimator.Estimator(\n",
    "    image_uri=image_uri,\n",
    "    role=role,\n",
    "    instance_count=1,\n",
    "    instance_type=\"ml.m5.large\",\n",
    "    output_path=f\"{s3_bucket_uri}/pipelines-output\",\n",
    "    sagemaker_session=pipeline_session\n",
    ")\n",
    "\n",
    "estimator.set_hyperparameters(\n",
    "    max_depth=max_depth_param,\n",
    "    objective=objective_param,\n",
    "    num_class=num_class_param,\n",
    "    num_round=num_round_param\n",
    ")\n",
    "\n",
    "estimator.set_hyperparameters(eval_metric='merror')\n",
    "\n",
    "#estimator.hyperparameters()\n",
    "\n",
    "# Training step\n",
    "\n",
    "training_step = TrainingStep(\n",
    "    name='training-step',\n",
    "    step_args=estimator.fit({\n",
    "                'train': s3_train,\n",
    "                'validation': s3_validate\n",
    "    })\n",
    ")\n",
    "\n",
    "# Register step\n",
    "\n",
    "model = Model(\n",
    "    image_uri=image_uri,\n",
    "    model_data=training_step.properties.ModelArtifacts.S3ModelArtifacts,\n",
    "    sagemaker_session=pipeline_session,\n",
    "    role=role\n",
    ")\n",
    "\n",
    "register_params = {\n",
    "    'model_package_group_name': 'iris-classification-group',\n",
    "    'description': 'XGBoost model for Iris classification',\n",
    "    'image_uri': image_uri,\n",
    "    'task': 'CLASSIFICATION'\n",
    "}\n",
    "\n",
    "register_model_step = ModelStep(\n",
    "    name='register-model-step',\n",
    "    step_args=model.register(**register_params)\n",
    ")\n",
    "\n",
    "# Fail Step\n",
    "\n",
    "fail_step = FailStep(\n",
    "    name='iris_fail',\n",
    "    error_message='What a bad model!'\n",
    ")"
   ]
  },
  {
   "cell_type": "code",
   "execution_count": null,
   "id": "5f1808dd-6504-415b-b62a-8313dfc3ee7d",
   "metadata": {
    "tags": []
   },
   "outputs": [],
   "source": [
    "#https://docs.aws.amazon.com/sagemaker/latest/dg/xgboost-tuning.html"
   ]
  },
  {
   "cell_type": "code",
   "execution_count": null,
   "id": "f30da983-2f92-49eb-8a2d-b5b1ea8a5c0d",
   "metadata": {
    "tags": []
   },
   "outputs": [],
   "source": [
    "from sagemaker.workflow.condition_step import ConditionStep\n",
    "from sagemaker.workflow.conditions import ConditionLessThan\n",
    "\n",
    "condition_step = ConditionStep(\n",
    "    name='condition-step',\n",
    "    conditions=[\n",
    "        ConditionLessThan(\n",
    "            left=training_step.properties.FinalMetricDataList['validation:merror'].Value,\n",
    "            right=0.04\n",
    "    )],\n",
    "    if_steps=[register_model_step],\n",
    "    else_steps=[fail_step]\n",
    ")"
   ]
  },
  {
   "cell_type": "markdown",
   "id": "5111f218-2964-40ed-99c6-e397e6bb0175",
   "metadata": {},
   "source": [
    "AND conditions work by adding more than one condition to conditions\n",
    "\n",
    "Pipeline steps cannot have duplicate names. In addition, steps added in \"\n",
    "    209         \"the ConditionStep cannot be added in the Pipeline steps list.\""
   ]
  },
  {
   "cell_type": "code",
   "execution_count": null,
   "id": "0a33e654-ad68-409c-bb10-53b3c45fdd55",
   "metadata": {
    "tags": []
   },
   "outputs": [],
   "source": [
    "pipeline = Pipeline(\n",
    "    name='iris-pipeline-with-conditions',\n",
    "    steps=[training_step,\n",
    "           condition_step],\n",
    "    parameters=[\n",
    "        max_depth_param,\n",
    "        objective_param,\n",
    "        num_class_param,\n",
    "        num_round_param,\n",
    "        training_dataset_path\n",
    "    ]\n",
    ")\n",
    "\n",
    "parallelism_config = {\n",
    "    'MaxParallelExecutionSteps': 5\n",
    "}\n",
    "\n",
    "pipeline.create(\n",
    "    role_arn=role,\n",
    "    parallelism_config=parallelism_config,\n",
    "    tags=[\n",
    "        {'Key': 'Project', 'Value': 'AWSTutorials'},\n",
    "        {'Key': 'Environment', 'Value': 'Development'}\n",
    "    ]\n",
    ")\n",
    "\n",
    "pipeline.start(\n",
    "    execution_display_name='pipeline-execution',\n",
    "    execution_description='First Pipeline Execution'\n",
    ")"
   ]
  },
  {
   "cell_type": "markdown",
   "id": "9c20d6dc-b04b-4a38-baad-bdd172f9b1ab",
   "metadata": {},
   "source": [
    "## Hyperparameter tuning"
   ]
  },
  {
   "cell_type": "code",
   "execution_count": null,
   "id": "5f77066f-a0d5-432e-a4a0-709db6073a36",
   "metadata": {
    "tags": []
   },
   "outputs": [],
   "source": [
    "from sagemaker.tuner import IntegerParameter, HyperparameterTuner\n",
    "\n",
    "hyperparameter_ranges = {\n",
    "    'max_depth':IntegerParameter(1, 10, scaling_type = 'Auto')\n",
    "}\n",
    "\n",
    "\n"
   ]
  },
  {
   "cell_type": "code",
   "execution_count": null,
   "id": "8f055ba4-601e-41bf-b895-a3c10508cca1",
   "metadata": {
    "tags": []
   },
   "outputs": [],
   "source": [
    "estimator = sagemaker.estimator.Estimator(\n",
    "    image_uri=image_uri,\n",
    "    role=role,\n",
    "    instance_count=1,\n",
    "    instance_type=\"ml.m5.large\",\n",
    "    output_path=f\"{s3_bucket_uri}/pipelines-output\",\n",
    "    sagemaker_session=session,\n",
    "    hyperparameters={\n",
    "        'objective': 'multi:softmax',\n",
    "        'num_class': 3,\n",
    "        'num_round': 10,\n",
    "    }\n",
    ")"
   ]
  },
  {
   "cell_type": "code",
   "execution_count": null,
   "id": "bde9d0c9-cfbd-4811-8f69-1cf6d8d5f90f",
   "metadata": {},
   "outputs": [],
   "source": [
    "https://github.com/dmlc/xgboost/blob/master/doc/parameter.rst#learning-task-parameters\n",
    "\n",
    "https://docs.aws.amazon.com/sagemaker/latest/dg/xgboost-tuning.html"
   ]
  },
  {
   "cell_type": "code",
   "execution_count": null,
   "id": "959ca8cb-bdbc-4d1b-9edd-14885dc0144f",
   "metadata": {
    "tags": []
   },
   "outputs": [],
   "source": [
    "hyperparameter_tuner = HyperparameterTuner(\n",
    "    estimator=estimator,\n",
    "    objective_metric_name='validation:merror',\n",
    "    hyperparameter_ranges=hyperparameter_ranges,\n",
    "    strategy='Random',\n",
    "    max_jobs=10,\n",
    "    max_parallel_jobs=5,\n",
    "    objective_type='Minimize'\n",
    ")\n",
    "\n",
    "from sagemaker.inputs import TrainingInput\n",
    "\n",
    "s3_train = TrainingInput(\n",
    "    s3_data=f's3://{s3_bucket_name}/iris_dataset/train_data.csv',\n",
    "    content_type='csv'\n",
    ")\n",
    "\n",
    "s3_validate = TrainingInput(\n",
    "    s3_data=f's3://{s3_bucket_name}/iris_dataset/test_data.csv',\n",
    "    content_type='csv'\n",
    ")"
   ]
  },
  {
   "cell_type": "code",
   "execution_count": null,
   "id": "0c29b243-8946-45c9-84e2-5b15c6635a42",
   "metadata": {
    "tags": []
   },
   "outputs": [],
   "source": [
    "hyperparameter_tuner.fit({\n",
    "                'train': s3_train,\n",
    "                'validation': s3_validate\n",
    "    })"
   ]
  },
  {
   "cell_type": "code",
   "execution_count": null,
   "id": "a6d60d87-741e-4c53-ab3c-88d97ea0986f",
   "metadata": {
    "tags": []
   },
   "outputs": [],
   "source": [
    "estimator = sagemaker.estimator.Estimator(\n",
    "    image_uri=image_uri,\n",
    "    role=role,\n",
    "    instance_count=1,\n",
    "    instance_type=\"ml.m5.large\",\n",
    "    output_path=f\"{s3_bucket_uri}/pipelines-output\",\n",
    "    sagemaker_session=pipeline_session,\n",
    "    hyperparameters={\n",
    "        'objective': 'multi:softmax',\n",
    "        'num_class': 3,\n",
    "        'num_round': 10,\n",
    "    }\n",
    ")\n",
    "\n",
    "hyperparameter_tuner = HyperparameterTuner(\n",
    "    estimator=estimator,\n",
    "    objective_metric_name='validation:merror',\n",
    "    hyperparameter_ranges=hyperparameter_ranges,\n",
    "    strategy='Random',\n",
    "    max_jobs=10,\n",
    "    max_parallel_jobs=10,\n",
    "    objective_type='Minimize'\n",
    ")"
   ]
  },
  {
   "cell_type": "code",
   "execution_count": null,
   "id": "418c2332-ed1d-47f1-9613-3aa210658866",
   "metadata": {},
   "outputs": [],
   "source": [
    "from sagemaker.workflow.steps import TuningStep\n",
    "\n",
    "tuning_step = TuningStep(\n",
    "    name='tuning-step',\n",
    "    step_args=hyperparameter_tuner.fit({\n",
    "                'train': s3_train,\n",
    "                'validation': s3_validate\n",
    "    })\n",
    ")\n",
    "\n"
   ]
  },
  {
   "cell_type": "markdown",
   "id": "122aaabe-b608-469c-b9ff-bb3a6ef270b4",
   "metadata": {},
   "source": [
    "https://sagemaker.readthedocs.io/en/stable/workflows/pipelines/sagemaker.workflow.pipelines.html#sagemaker.workflow.steps.TuningStep.get_top_model_s3_uri"
   ]
  },
  {
   "cell_type": "code",
   "execution_count": null,
   "id": "fefd199b-30d5-44a9-bc4f-417d58edd02f",
   "metadata": {
    "tags": []
   },
   "outputs": [],
   "source": [
    "from sagemaker.analytics import HyperparameterTuningJobAnalytics\n",
    "\n",
    "tuning_job_name = 'sagemaker-xgboost-240219-1358'\n",
    "\n",
    "\n",
    "tuning_job_result = HyperparameterTuningJobAnalytics(tuning_job_name, sagemaker_session=session)\n",
    "\n",
    "# Fetch the training job summaries\n",
    "job_summaries = tuning_job_result.training_job_summaries()\n",
    "\n",
    "# List the names of the training jobs\n",
    "for summary in job_summaries:\n",
    "    print(summary['TrainingJobName'])\n"
   ]
  },
  {
   "cell_type": "code",
   "execution_count": null,
   "id": "65fbb774-b553-485d-972b-17c638a40cac",
   "metadata": {
    "tags": []
   },
   "outputs": [],
   "source": [
    "from sagemaker.predictor import Predictor\n",
    "\n",
    "prefix = f\"pipelines_output\"\n",
    "\n",
    "best_model = Model(\n",
    "    image_uri=image_uri,\n",
    "    model_data=tuning_step.get_top_model_s3_uri(\n",
    "        top_k=0, s3_bucket=f\"{s3_bucket_name}/pipelines-output\"#, prefix=prefix\n",
    "    ),\n",
    "    predictor_cls=Predictor,\n",
    "    sagemaker_session=pipeline_session,\n",
    "    role=role,\n",
    ")\n",
    "\n",
    "register_params = {\n",
    "    'model_package_group_name': 'iris-classification-group',\n",
    "    'description': 'Top performing model from Hyperparameter tuning',\n",
    "    'image_uri': image_uri,\n",
    "    'task': 'CLASSIFICATION'\n",
    "}\n",
    "\n",
    "register_best_model_step = ModelStep(\n",
    "    name=\"register-best-step\",\n",
    "    step_args=best_model.register(**register_params),\n",
    ")\n"
   ]
  },
  {
   "cell_type": "code",
   "execution_count": null,
   "id": "08a60bdd-6572-42bf-af16-0b212bc0d582",
   "metadata": {
    "tags": []
   },
   "outputs": [],
   "source": [
    "s3_bucket_name"
   ]
  },
  {
   "cell_type": "code",
   "execution_count": null,
   "id": "105337ec-cfad-42da-a6fc-b03fa930c04e",
   "metadata": {
    "tags": []
   },
   "outputs": [],
   "source": [
    "pipeline = Pipeline(\n",
    "    name='iris',\n",
    "    steps=[tuning_step,\n",
    "           register_best_model_step],\n",
    "    parameters=[\n",
    "        objective_param,\n",
    "        num_class_param,\n",
    "        num_round_param,\n",
    "        training_dataset_path\n",
    "    ]\n",
    ")\n",
    "\n",
    "parallelism_config = {\n",
    "    'MaxParallelExecutionSteps': 5\n",
    "}\n",
    "\n",
    "pipeline.create(\n",
    "    role_arn=role,\n",
    "    parallelism_config=parallelism_config,\n",
    "    tags=[\n",
    "        {'Key': 'Project', 'Value': 'AWSTutorials'},\n",
    "        {'Key': 'Environment', 'Value': 'Development'}\n",
    "    ]\n",
    ")\n",
    "\n",
    "pipeline.start(\n",
    "    execution_display_name='pipeline-execution',\n",
    "    execution_description='First Pipeline Execution'\n",
    ")"
   ]
  },
  {
   "cell_type": "code",
   "execution_count": null,
   "id": "27d9f932-72db-4fdf-a1c4-c7d34444e02a",
   "metadata": {},
   "outputs": [],
   "source": [
    "pipeline_names = [\n",
    "    'iris-classification-pipeline',\n",
    "]\n",
    "\n",
    "for pipeline_name in pipeline_names:\n",
    "    pipeline = Pipeline(pipeline_name, sagemaker_session=session)\n",
    "    pipeline.delete()"
   ]
  },
  {
   "cell_type": "code",
   "execution_count": null,
   "id": "9f9b58ac-fd2e-4333-ae38-378c3b05f909",
   "metadata": {
    "tags": []
   },
   "outputs": [],
   "source": [
    "tuning_job_result.dataframe()"
   ]
  },
  {
   "cell_type": "code",
   "execution_count": null,
   "id": "5f72fbe6-7ec6-43df-b160-f0aa9d378037",
   "metadata": {
    "tags": []
   },
   "outputs": [],
   "source": [
    "model_package_group_name = 'iris-classification-group'\n",
    "model_packages = sm_client.list_model_packages(ModelPackageGroupName=model_package_group_name)\n",
    "\n",
    "for model_package in model_packages['ModelPackageSummaryList']:\n",
    "    model_package_arn = model_package['ModelPackageArn']\n",
    "    sm_client.delete_model_package(ModelPackageName=model_package_arn)"
   ]
  },
  {
   "cell_type": "code",
   "execution_count": null,
   "id": "f459f7a3-8252-4264-8096-fc96337a5f09",
   "metadata": {
    "tags": []
   },
   "outputs": [],
   "source": [
    "sm_client.delete_model_package_group(ModelPackageGroupName=model_package_group_name)"
   ]
  },
  {
   "cell_type": "code",
   "execution_count": null,
   "id": "a7e6d8e4-cc18-45b7-9885-2da093e92c3b",
   "metadata": {},
   "outputs": [],
   "source": []
  }
 ],
 "metadata": {
  "kernelspec": {
   "display_name": "conda_tensorflow2_p310",
   "language": "python",
   "name": "conda_tensorflow2_p310"
  },
  "language_info": {
   "codemirror_mode": {
    "name": "ipython",
    "version": 3
   },
   "file_extension": ".py",
   "mimetype": "text/x-python",
   "name": "python",
   "nbconvert_exporter": "python",
   "pygments_lexer": "ipython3",
   "version": "3.10.13"
  }
 },
 "nbformat": 4,
 "nbformat_minor": 5
}
