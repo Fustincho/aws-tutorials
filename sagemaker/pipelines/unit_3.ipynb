{
 "cells": [
  {
   "cell_type": "markdown",
   "id": "e9127c9d-208d-4911-8137-32646a116c10",
   "metadata": {},
   "source": [
    "# Tuning for Performance\n",
    "\n",
    "In this unit, we focus on enhancing machine learning models with SageMaker's **Hyperparameter Tuning**. Learn how to fine-tune your model's settings for better accuracy and integrate these optimizations into your pipelines for seamless automation. Simplified and practical, this module will equip you with the skills to improve model performance efficiently.\n",
    "\n",
    "We begin by uploading the usual setup:"
   ]
  },
  {
   "cell_type": "code",
   "execution_count": 1,
   "id": "55f4b77f-9a3f-4a3c-ba08-59156fc408da",
   "metadata": {},
   "outputs": [
    {
     "name": "stdout",
     "output_type": "stream",
     "text": [
      "sagemaker.config INFO - Not applying SDK defaults from location: /etc/xdg/sagemaker/config.yaml\n",
      "sagemaker.config INFO - Not applying SDK defaults from location: /home/ec2-user/.config/sagemaker/config.yaml\n"
     ]
    }
   ],
   "source": [
    "import boto3\n",
    "import sagemaker\n",
    "from utils.helpers import get_secret\n",
    "\n",
    "sm_client = boto3.client('sagemaker')\n",
    "session = sagemaker.Session()\n",
    "role = get_secret('role_arn')\n",
    "s3_bucket_uri = get_secret('s3_bucket_uri')\n",
    "s3_bucket_name = get_secret('s3_bucket_name')\n",
    "\n",
    "image_uri = sagemaker.image_uris.retrieve('xgboost',\n",
    "                                          region='us-east-1',\n",
    "                                          version='1.5-1')"
   ]
  },
  {
   "cell_type": "code",
   "execution_count": 2,
   "id": "97ac178e-2506-4363-9d3c-7a41c365cd38",
   "metadata": {},
   "outputs": [],
   "source": [
    "estimator = sagemaker.estimator.Estimator(\n",
    "    image_uri=image_uri,\n",
    "    role=role,\n",
    "    instance_count=1,\n",
    "    instance_type=\"ml.m5.large\",\n",
    "    output_path=f\"{s3_bucket_uri}/pipelines-output\",\n",
    "    sagemaker_session=session,\n",
    "    hyperparameters={\n",
    "        'objective': 'multi:softmax',\n",
    "        'num_class': 3,\n",
    "        'num_round': 10,\n",
    "    }\n",
    ")"
   ]
  },
  {
   "cell_type": "markdown",
   "id": "424be208-b90b-4c40-86fd-52e60113293b",
   "metadata": {},
   "source": [
    "[Scaling type](https://docs.aws.amazon.com/sagemaker/latest/dg/automatic-model-tuning-define-ranges.html#scaling-type)"
   ]
  },
  {
   "cell_type": "code",
   "execution_count": 3,
   "id": "beb416fb-f46a-4372-8f6a-638cec73bcca",
   "metadata": {},
   "outputs": [],
   "source": [
    "from sagemaker.tuner import IntegerParameter, HyperparameterTuner\n",
    "\n",
    "hyperparameter_ranges = {\n",
    "    'max_depth' : IntegerParameter(1, 10, scaling_type = 'Auto')\n",
    "}"
   ]
  },
  {
   "cell_type": "markdown",
   "id": "579a5421-768d-482b-9440-4d44b983f720",
   "metadata": {},
   "source": [
    "A list of metrics for the XGBoost model is found [here (AWS Docs)](https://docs.aws.amazon.com/sagemaker/latest/dg/xgboost-tuning.html#xgboost-metrics) and [here (GitHub)](https://github.com/dmlc/xgboost/blob/master/doc/parameter.rst#learning-task-parameters) "
   ]
  },
  {
   "cell_type": "code",
   "execution_count": 4,
   "id": "734c46c1-d6d0-45f9-8d17-7efc45499d2d",
   "metadata": {},
   "outputs": [],
   "source": [
    "hyperparameter_tuner = HyperparameterTuner(\n",
    "    estimator=estimator,\n",
    "    objective_metric_name='validation:merror',\n",
    "    hyperparameter_ranges=hyperparameter_ranges,\n",
    "    strategy='Random',\n",
    "    max_jobs=10,\n",
    "    max_parallel_jobs=5,\n",
    "    objective_type='Minimize'\n",
    ")\n",
    "\n",
    "from sagemaker.inputs import TrainingInput\n",
    "\n",
    "s3_train = TrainingInput(\n",
    "    s3_data=f's3://{s3_bucket_name}/iris_dataset/train_data.csv',\n",
    "    content_type='csv'\n",
    ")\n",
    "\n",
    "s3_validate = TrainingInput(\n",
    "    s3_data=f's3://{s3_bucket_name}/iris_dataset/test_data.csv',\n",
    "    content_type='csv'\n",
    ")"
   ]
  },
  {
   "cell_type": "code",
   "execution_count": 5,
   "id": "1a5ebf3a-252a-4efc-988c-219e683b5f39",
   "metadata": {
    "tags": []
   },
   "outputs": [
    {
     "name": "stderr",
     "output_type": "stream",
     "text": [
      "No finished training job found associated with this estimator. Please make sure this estimator is only used for building workflow config\n",
      "No finished training job found associated with this estimator. Please make sure this estimator is only used for building workflow config\n"
     ]
    },
    {
     "name": "stdout",
     "output_type": "stream",
     "text": [
      "...........................................................!\n"
     ]
    }
   ],
   "source": [
    "hyperparameter_tuner.fit({\n",
    "    'train': s3_train,\n",
    "    'validation': s3_validate\n",
    "})"
   ]
  },
  {
   "cell_type": "code",
   "execution_count": 6,
   "id": "166e83f2-3260-4a78-a454-18d314c46474",
   "metadata": {
    "tags": []
   },
   "outputs": [
    {
     "data": {
      "text/plain": [
       "dict_keys(['TrainingJobName', 'TrainingJobArn', 'CreationTime', 'TrainingStartTime', 'TrainingEndTime', 'TrainingJobStatus', 'TunedHyperParameters', 'FinalHyperParameterTuningJobObjectiveMetric', 'ObjectiveStatus'])"
      ]
     },
     "execution_count": 6,
     "metadata": {},
     "output_type": "execute_result"
    }
   ],
   "source": [
    "from sagemaker.analytics import HyperparameterTuningJobAnalytics\n",
    "\n",
    "tuning_job_name = 'sagemaker-xgboost-240202-2315'\n",
    "\n",
    "tuning_job_result = HyperparameterTuningJobAnalytics(tuning_job_name, sagemaker_session=session)\n",
    "\n",
    "job_summaries = tuning_job_result.training_job_summaries()\n",
    "\n",
    "job_summaries[0].keys()"
   ]
  },
  {
   "cell_type": "code",
   "execution_count": 7,
   "id": "61b3fd47-feac-45c7-a8f1-ceb0d3214903",
   "metadata": {
    "tags": []
   },
   "outputs": [
    {
     "data": {
      "text/html": [
       "<div>\n",
       "<style scoped>\n",
       "    .dataframe tbody tr th:only-of-type {\n",
       "        vertical-align: middle;\n",
       "    }\n",
       "\n",
       "    .dataframe tbody tr th {\n",
       "        vertical-align: top;\n",
       "    }\n",
       "\n",
       "    .dataframe thead th {\n",
       "        text-align: right;\n",
       "    }\n",
       "</style>\n",
       "<table border=\"1\" class=\"dataframe\">\n",
       "  <thead>\n",
       "    <tr style=\"text-align: right;\">\n",
       "      <th></th>\n",
       "      <th>max_depth</th>\n",
       "      <th>TrainingJobName</th>\n",
       "      <th>TrainingJobStatus</th>\n",
       "      <th>FinalObjectiveValue</th>\n",
       "      <th>TrainingStartTime</th>\n",
       "      <th>TrainingEndTime</th>\n",
       "      <th>TrainingElapsedTimeSeconds</th>\n",
       "    </tr>\n",
       "  </thead>\n",
       "  <tbody>\n",
       "    <tr>\n",
       "      <th>0</th>\n",
       "      <td>4.0</td>\n",
       "      <td>sagemaker-xgboost-240202-2315-010-64815582</td>\n",
       "      <td>Completed</td>\n",
       "      <td>0.03226</td>\n",
       "      <td>2024-02-02 23:19:34-05:00</td>\n",
       "      <td>2024-02-02 23:20:15-05:00</td>\n",
       "      <td>41.0</td>\n",
       "    </tr>\n",
       "    <tr>\n",
       "      <th>1</th>\n",
       "      <td>1.0</td>\n",
       "      <td>sagemaker-xgboost-240202-2315-009-784b844a</td>\n",
       "      <td>Completed</td>\n",
       "      <td>0.06452</td>\n",
       "      <td>2024-02-02 23:19:32-05:00</td>\n",
       "      <td>2024-02-02 23:20:14-05:00</td>\n",
       "      <td>42.0</td>\n",
       "    </tr>\n",
       "    <tr>\n",
       "      <th>2</th>\n",
       "      <td>3.0</td>\n",
       "      <td>sagemaker-xgboost-240202-2315-008-f1f79461</td>\n",
       "      <td>Completed</td>\n",
       "      <td>0.06452</td>\n",
       "      <td>2024-02-02 23:19:27-05:00</td>\n",
       "      <td>2024-02-02 23:20:04-05:00</td>\n",
       "      <td>37.0</td>\n",
       "    </tr>\n",
       "    <tr>\n",
       "      <th>3</th>\n",
       "      <td>5.0</td>\n",
       "      <td>sagemaker-xgboost-240202-2315-007-6288d9c9</td>\n",
       "      <td>Completed</td>\n",
       "      <td>0.03226</td>\n",
       "      <td>2024-02-02 23:19:23-05:00</td>\n",
       "      <td>2024-02-02 23:20:05-05:00</td>\n",
       "      <td>42.0</td>\n",
       "    </tr>\n",
       "    <tr>\n",
       "      <th>4</th>\n",
       "      <td>7.0</td>\n",
       "      <td>sagemaker-xgboost-240202-2315-006-40a4723f</td>\n",
       "      <td>Completed</td>\n",
       "      <td>0.03226</td>\n",
       "      <td>2024-02-02 23:19:06-05:00</td>\n",
       "      <td>2024-02-02 23:19:43-05:00</td>\n",
       "      <td>37.0</td>\n",
       "    </tr>\n",
       "    <tr>\n",
       "      <th>5</th>\n",
       "      <td>9.0</td>\n",
       "      <td>sagemaker-xgboost-240202-2315-005-69134c8a</td>\n",
       "      <td>Completed</td>\n",
       "      <td>0.03226</td>\n",
       "      <td>2024-02-02 23:17:20-05:00</td>\n",
       "      <td>2024-02-02 23:19:22-05:00</td>\n",
       "      <td>122.0</td>\n",
       "    </tr>\n",
       "    <tr>\n",
       "      <th>6</th>\n",
       "      <td>8.0</td>\n",
       "      <td>sagemaker-xgboost-240202-2315-004-8862d949</td>\n",
       "      <td>Completed</td>\n",
       "      <td>0.03226</td>\n",
       "      <td>2024-02-02 23:17:11-05:00</td>\n",
       "      <td>2024-02-02 23:19:13-05:00</td>\n",
       "      <td>122.0</td>\n",
       "    </tr>\n",
       "    <tr>\n",
       "      <th>7</th>\n",
       "      <td>6.0</td>\n",
       "      <td>sagemaker-xgboost-240202-2315-003-8ba6b805</td>\n",
       "      <td>Completed</td>\n",
       "      <td>0.03226</td>\n",
       "      <td>2024-02-02 23:17:22-05:00</td>\n",
       "      <td>2024-02-02 23:19:24-05:00</td>\n",
       "      <td>122.0</td>\n",
       "    </tr>\n",
       "    <tr>\n",
       "      <th>8</th>\n",
       "      <td>2.0</td>\n",
       "      <td>sagemaker-xgboost-240202-2315-002-d283f75d</td>\n",
       "      <td>Completed</td>\n",
       "      <td>0.03226</td>\n",
       "      <td>2024-02-02 23:17:16-05:00</td>\n",
       "      <td>2024-02-02 23:19:18-05:00</td>\n",
       "      <td>122.0</td>\n",
       "    </tr>\n",
       "    <tr>\n",
       "      <th>9</th>\n",
       "      <td>10.0</td>\n",
       "      <td>sagemaker-xgboost-240202-2315-001-e3113228</td>\n",
       "      <td>Completed</td>\n",
       "      <td>0.03226</td>\n",
       "      <td>2024-02-02 23:17:05-05:00</td>\n",
       "      <td>2024-02-02 23:18:57-05:00</td>\n",
       "      <td>112.0</td>\n",
       "    </tr>\n",
       "  </tbody>\n",
       "</table>\n",
       "</div>"
      ],
      "text/plain": [
       "   max_depth                             TrainingJobName TrainingJobStatus  \\\n",
       "0        4.0  sagemaker-xgboost-240202-2315-010-64815582         Completed   \n",
       "1        1.0  sagemaker-xgboost-240202-2315-009-784b844a         Completed   \n",
       "2        3.0  sagemaker-xgboost-240202-2315-008-f1f79461         Completed   \n",
       "3        5.0  sagemaker-xgboost-240202-2315-007-6288d9c9         Completed   \n",
       "4        7.0  sagemaker-xgboost-240202-2315-006-40a4723f         Completed   \n",
       "5        9.0  sagemaker-xgboost-240202-2315-005-69134c8a         Completed   \n",
       "6        8.0  sagemaker-xgboost-240202-2315-004-8862d949         Completed   \n",
       "7        6.0  sagemaker-xgboost-240202-2315-003-8ba6b805         Completed   \n",
       "8        2.0  sagemaker-xgboost-240202-2315-002-d283f75d         Completed   \n",
       "9       10.0  sagemaker-xgboost-240202-2315-001-e3113228         Completed   \n",
       "\n",
       "   FinalObjectiveValue         TrainingStartTime           TrainingEndTime  \\\n",
       "0              0.03226 2024-02-02 23:19:34-05:00 2024-02-02 23:20:15-05:00   \n",
       "1              0.06452 2024-02-02 23:19:32-05:00 2024-02-02 23:20:14-05:00   \n",
       "2              0.06452 2024-02-02 23:19:27-05:00 2024-02-02 23:20:04-05:00   \n",
       "3              0.03226 2024-02-02 23:19:23-05:00 2024-02-02 23:20:05-05:00   \n",
       "4              0.03226 2024-02-02 23:19:06-05:00 2024-02-02 23:19:43-05:00   \n",
       "5              0.03226 2024-02-02 23:17:20-05:00 2024-02-02 23:19:22-05:00   \n",
       "6              0.03226 2024-02-02 23:17:11-05:00 2024-02-02 23:19:13-05:00   \n",
       "7              0.03226 2024-02-02 23:17:22-05:00 2024-02-02 23:19:24-05:00   \n",
       "8              0.03226 2024-02-02 23:17:16-05:00 2024-02-02 23:19:18-05:00   \n",
       "9              0.03226 2024-02-02 23:17:05-05:00 2024-02-02 23:18:57-05:00   \n",
       "\n",
       "   TrainingElapsedTimeSeconds  \n",
       "0                        41.0  \n",
       "1                        42.0  \n",
       "2                        37.0  \n",
       "3                        42.0  \n",
       "4                        37.0  \n",
       "5                       122.0  \n",
       "6                       122.0  \n",
       "7                       122.0  \n",
       "8                       122.0  \n",
       "9                       112.0  "
      ]
     },
     "execution_count": 7,
     "metadata": {},
     "output_type": "execute_result"
    }
   ],
   "source": [
    "tuning_job_result.dataframe()"
   ]
  },
  {
   "cell_type": "code",
   "execution_count": 8,
   "id": "2ec534ea-89f2-4a6b-b6ea-d14acdcb656d",
   "metadata": {
    "tags": []
   },
   "outputs": [],
   "source": [
    "from sagemaker.workflow.pipeline_context import PipelineSession\n",
    "\n",
    "pipeline_session = PipelineSession()"
   ]
  },
  {
   "cell_type": "code",
   "execution_count": 9,
   "id": "80f5ae0b-a817-4381-87c1-b152621ae878",
   "metadata": {
    "tags": []
   },
   "outputs": [],
   "source": [
    "from sagemaker.workflow.parameters import (\n",
    "    ParameterString,\n",
    "    ParameterInteger\n",
    ")\n",
    "\n",
    "objective_param = ParameterString(name=\"objective\",\n",
    "                                  default_value='multi:softmax')\n",
    "num_round_param = ParameterInteger(name=\"num_round\",\n",
    "                                   default_value=10)\n",
    "\n",
    "estimator = sagemaker.estimator.Estimator(\n",
    "    image_uri=image_uri,\n",
    "    role=role,\n",
    "    instance_count=1,\n",
    "    instance_type=\"ml.m5.large\",\n",
    "    output_path=f\"{s3_bucket_uri}/pipelines-output\",\n",
    "    sagemaker_session=pipeline_session,\n",
    "    hyperparameters={\n",
    "        'objective': objective_param,\n",
    "        'num_class': 3,\n",
    "        'num_round': num_round_param,\n",
    "    }\n",
    ")\n",
    "\n",
    "hyperparameter_tuner = HyperparameterTuner(\n",
    "    estimator=estimator,\n",
    "    objective_metric_name='validation:merror',\n",
    "    hyperparameter_ranges=hyperparameter_ranges,\n",
    "    strategy='Random',\n",
    "    max_jobs=10,\n",
    "    max_parallel_jobs=10,\n",
    "    objective_type='Minimize'\n",
    ")"
   ]
  },
  {
   "cell_type": "code",
   "execution_count": 10,
   "id": "49275b07-c24d-40fb-a363-cd915e801075",
   "metadata": {
    "tags": []
   },
   "outputs": [
    {
     "name": "stderr",
     "output_type": "stream",
     "text": [
      "/home/ec2-user/anaconda3/envs/tensorflow2_p310/lib/python3.10/site-packages/sagemaker/workflow/pipeline_context.py:332: UserWarning: Running within a PipelineSession, there will be No Wait, No Logs, and No Job being started.\n",
      "  warnings.warn(\n"
     ]
    }
   ],
   "source": [
    "from sagemaker.workflow.steps import TuningStep\n",
    "\n",
    "tuning_step = TuningStep(\n",
    "    name='tuning-step',\n",
    "    step_args=hyperparameter_tuner.fit({\n",
    "        'train': s3_train,\n",
    "        'validation': s3_validate\n",
    "    })\n",
    ")"
   ]
  },
  {
   "cell_type": "code",
   "execution_count": 11,
   "id": "25460307-106c-493e-8d50-3b46265281af",
   "metadata": {
    "tags": []
   },
   "outputs": [],
   "source": [
    "from sagemaker.predictor import Predictor\n",
    "from sagemaker.model import Model\n",
    "from sagemaker.workflow.model_step import ModelStep\n",
    "\n",
    "best_model = Model(\n",
    "    image_uri=image_uri,\n",
    "    model_data=tuning_step.get_top_model_s3_uri(\n",
    "        top_k=0, s3_bucket=f\"{s3_bucket_name}/pipelines-output\"\n",
    "    ),\n",
    "    predictor_cls=Predictor,\n",
    "    sagemaker_session=pipeline_session,\n",
    "    role=role,\n",
    ")\n",
    "\n",
    "register_params = {\n",
    "    'model_package_group_name': 'iris-classification-group',\n",
    "    'description': 'Top performing model from Hyperparameter tuning',\n",
    "    'image_uri': image_uri,\n",
    "    'task': 'CLASSIFICATION'\n",
    "}\n",
    "\n",
    "register_best_model_step = ModelStep(\n",
    "    name=\"register-best-step\",\n",
    "    step_args=best_model.register(**register_params),\n",
    ")\n"
   ]
  },
  {
   "cell_type": "code",
   "execution_count": null,
   "id": "6072e50d-22cb-47bc-af8e-2e828b63d573",
   "metadata": {
    "tags": []
   },
   "outputs": [],
   "source": [
    "from sagemaker.workflow.pipeline import Pipeline\n",
    "\n",
    "pipeline = Pipeline(\n",
    "    name='iris-tuning-pipeline',\n",
    "    steps=[tuning_step,\n",
    "           register_best_model_step],\n",
    "    parameters=[\n",
    "        objective_param,\n",
    "        num_round_param,\n",
    "    ]\n",
    ")\n",
    "\n",
    "parallelism_config = {\n",
    "    'MaxParallelExecutionSteps': 5\n",
    "}\n",
    "\n",
    "pipeline.create(\n",
    "    role_arn=role,\n",
    "    parallelism_config=parallelism_config,\n",
    "    tags=[\n",
    "        {'Key': 'Project', 'Value': 'AWSTutorials'},\n",
    "        {'Key': 'Environment', 'Value': 'Development'}\n",
    "    ]\n",
    ")\n",
    "\n",
    "pipeline.start(\n",
    "    execution_display_name='pipeline-execution',\n",
    "    execution_description='First Pipeline Execution'\n",
    ")"
   ]
  },
  {
   "cell_type": "markdown",
   "id": "6c63490f-a926-4fa2-82f4-01ba85269f05",
   "metadata": {
    "tags": []
   },
   "source": [
    "## Cleanup"
   ]
  },
  {
   "cell_type": "code",
   "execution_count": 13,
   "id": "320a9239-c614-46ed-a50a-bf39c4fd8257",
   "metadata": {
    "tags": []
   },
   "outputs": [
    {
     "name": "stderr",
     "output_type": "stream",
     "text": [
      "INFO:sagemaker.workflow.pipeline:If triggers have been setup for this target, they will become orphaned.You will need to clean them up manually via the CLI or EventBridge console.\n"
     ]
    }
   ],
   "source": [
    "pipeline_names = [\n",
    "    'iris-tuning-pipeline',\n",
    "]\n",
    "\n",
    "# Delete pipelines\n",
    "for pipeline_name in pipeline_names:\n",
    "    pipeline = Pipeline(pipeline_name, sagemaker_session=session)\n",
    "    pipeline.delete()"
   ]
  },
  {
   "cell_type": "code",
   "execution_count": 14,
   "id": "04f7c939-7d73-4d7a-8ef2-54a43c0cc3b7",
   "metadata": {
    "tags": []
   },
   "outputs": [
    {
     "data": {
      "text/plain": [
       "{'ResponseMetadata': {'RequestId': 'ac569426-360b-432d-8f0c-6ba801e11947',\n",
       "  'HTTPStatusCode': 200,\n",
       "  'HTTPHeaders': {'x-amzn-requestid': 'ac569426-360b-432d-8f0c-6ba801e11947',\n",
       "   'content-type': 'application/x-amz-json-1.1',\n",
       "   'content-length': '0',\n",
       "   'date': 'Wed, 21 Feb 2024 03:21:15 GMT'},\n",
       "  'RetryAttempts': 0}}"
      ]
     },
     "execution_count": 14,
     "metadata": {},
     "output_type": "execute_result"
    }
   ],
   "source": [
    "model_package_group_name = 'iris-classification-group'\n",
    "model_packages = sm_client.list_model_packages(ModelPackageGroupName=model_package_group_name)\n",
    "\n",
    "# Delete models\n",
    "for model_package in model_packages['ModelPackageSummaryList']:\n",
    "    model_package_arn = model_package['ModelPackageArn']\n",
    "    sm_client.delete_model_package(ModelPackageName=model_package_arn)\n",
    "\n",
    "# Delete model group\n",
    "sm_client.delete_model_package_group(ModelPackageGroupName=model_package_group_name)"
   ]
  },
  {
   "cell_type": "code",
   "execution_count": null,
   "id": "f3b55b59-832c-45bc-ac1c-008655b05274",
   "metadata": {},
   "outputs": [],
   "source": []
  }
 ],
 "metadata": {
  "kernelspec": {
   "display_name": "conda_tensorflow2_p310",
   "language": "python",
   "name": "conda_tensorflow2_p310"
  },
  "language_info": {
   "codemirror_mode": {
    "name": "ipython",
    "version": 3
   },
   "file_extension": ".py",
   "mimetype": "text/x-python",
   "name": "python",
   "nbconvert_exporter": "python",
   "pygments_lexer": "ipython3",
   "version": "3.10.13"
  }
 },
 "nbformat": 4,
 "nbformat_minor": 5
}
