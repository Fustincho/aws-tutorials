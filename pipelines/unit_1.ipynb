{
 "cells": [
  {
   "cell_type": "code",
   "execution_count": 1,
   "id": "c8e09a8b-bf2a-40f1-8519-e7729c1fb01e",
   "metadata": {
    "tags": []
   },
   "outputs": [
    {
     "name": "stdout",
     "output_type": "stream",
     "text": [
      "sagemaker.config INFO - Not applying SDK defaults from location: /etc/xdg/sagemaker/config.yaml\n",
      "sagemaker.config INFO - Not applying SDK defaults from location: /home/ec2-user/.config/sagemaker/config.yaml\n"
     ]
    }
   ],
   "source": [
    "import sagemaker\n",
    "from utils import get_secret\n",
    "from toy_datasets import upload_dataset_to_s3"
   ]
  },
  {
   "cell_type": "code",
   "execution_count": 2,
   "id": "f637ebc1-c9c1-41bf-8941-ce2b4061b7db",
   "metadata": {
    "tags": []
   },
   "outputs": [],
   "source": [
    "session = sagemaker.Session()\n",
    "role = get_secret('role_arn')\n",
    "s3_bucket_uri = get_secret('s3_bucket_uri')\n",
    "s3_bucket_name = get_secret('s3_bucket_name')"
   ]
  },
  {
   "cell_type": "markdown",
   "id": "128051e8-5cd2-40ce-909e-cc1b7cd8746f",
   "metadata": {},
   "source": [
    "https://github.com/aws/sagemaker-python-sdk/blob/master/src/sagemaker/image_uri_config/xgboost.json"
   ]
  },
  {
   "cell_type": "code",
   "execution_count": 3,
   "id": "adfc02bb-599e-4077-a7e8-da0fa4614249",
   "metadata": {
    "tags": []
   },
   "outputs": [],
   "source": [
    "image_uri = sagemaker.image_uris.retrieve('xgboost', region='us-east-1', version='1.5-1')"
   ]
  },
  {
   "cell_type": "code",
   "execution_count": 4,
   "id": "5fd82954-ce54-423f-9e7c-824123ac372d",
   "metadata": {},
   "outputs": [],
   "source": [
    "estimator = sagemaker.estimator.Estimator(\n",
    "    image_uri=image_uri,\n",
    "    role=role,\n",
    "    instance_count=1,\n",
    "    instance_type=\"ml.m5.large\",\n",
    "    output_path=f\"{s3_bucket_uri}/pipelines-output\",\n",
    "    sagemaker_session=session\n",
    ")"
   ]
  },
  {
   "cell_type": "markdown",
   "id": "548ff0c7-da77-45e5-a50f-fa00bd295fbc",
   "metadata": {},
   "source": [
    "You need to create an AWS Identity and Access Management (IAM) role that grants the necessary permissions for Amazon SageMaker to access resources such as S3 buckets, execute training jobs, and deploy models.\n",
    "\n",
    "```json\n",
    "    {\n",
    "        \"Version\": \"2012-10-17\",\n",
    "        \"Statement\": [\n",
    "            {\n",
    "                \"Effect\": \"Allow\",\n",
    "                \"Action\": [\n",
    "                    \"s3:GetObject\",\n",
    "                    \"s3:PutObject\",\n",
    "                    \"s3:ListBucket\",\n",
    "                    \"s3:DeleteObject\"\n",
    "                ],\n",
    "                \"Resource\": [\n",
    "                    \"arn:aws:s3:::your-s3-bucket/*\",\n",
    "                    \"arn:aws:s3:::your-s3-bucket\"\n",
    "                ]\n",
    "            },\n",
    "            {\n",
    "                \"Effect\": \"Allow\",\n",
    "                \"Action\": [\n",
    "                    \"sagemaker:CreateModel\",\n",
    "                    \"sagemaker:CreateEndpointConfig\",\n",
    "                    \"sagemaker:CreateEndpoint\",\n",
    "                    \"sagemaker:DeleteEndpoint\",\n",
    "                    \"sagemaker:DeleteEndpointConfig\"\n",
    "                ],\n",
    "                \"Resource\": \"*\"\n",
    "            },\n",
    "            {\n",
    "                \"Effect\": \"Allow\",\n",
    "                \"Action\": [\n",
    "                    \"sagemaker:CreateTrainingJob\",\n",
    "                    \"sagemaker:DescribeTrainingJob\",\n",
    "                    \"sagemaker:StopTrainingJob\"\n",
    "                ],\n",
    "                \"Resource\": \"*\"\n",
    "            }\n",
    "        ]\n",
    "    }\n",
    "```\n"
   ]
  },
  {
   "cell_type": "markdown",
   "id": "a055397f-8d52-4651-b8c5-4b6acf6ab931",
   "metadata": {},
   "source": [
    "https://docs.aws.amazon.com/sagemaker/latest/dg/xgboost_hyperparameters.html"
   ]
  },
  {
   "cell_type": "code",
   "execution_count": 5,
   "id": "da0487b0-e7b4-4c49-b024-ec6112b7fc57",
   "metadata": {
    "tags": []
   },
   "outputs": [],
   "source": [
    "estimator.set_hyperparameters(\n",
    "    max_depth=5,\n",
    "    objective='multi:softmax',\n",
    "    num_class=3,\n",
    "    num_round=10\n",
    ")"
   ]
  },
  {
   "cell_type": "code",
   "execution_count": 6,
   "id": "d535550f-8d97-412f-bc44-0081a4d8b713",
   "metadata": {
    "tags": []
   },
   "outputs": [
    {
     "name": "stdout",
     "output_type": "stream",
     "text": [
      "None\n",
      "None\n",
      "Files uploaded to S3 successfully.\n"
     ]
    }
   ],
   "source": [
    "dataset_name = 'iris'\n",
    "upload_dataset_to_s3(dataset_name, s3_bucket_name)"
   ]
  },
  {
   "cell_type": "code",
   "execution_count": 7,
   "id": "7f00ace1-205f-4d69-a04d-3bc3dbe7f362",
   "metadata": {
    "tags": []
   },
   "outputs": [],
   "source": [
    "from sagemaker.inputs import TrainingInput\n",
    "\n",
    "s3_train = TrainingInput(\n",
    "    s3_data=f's3://{s3_bucket_name}/iris_dataset/train_data.csv',\n",
    "    content_type='csv'\n",
    ")\n",
    "\n",
    "s3_validate = TrainingInput(\n",
    "    s3_data=f's3://{s3_bucket_name}/iris_dataset/test_data.csv',\n",
    "    content_type='csv'\n",
    ")"
   ]
  },
  {
   "cell_type": "code",
   "execution_count": 8,
   "id": "df75d237-a8b6-4443-9f05-3826ee98d1d0",
   "metadata": {
    "tags": []
   },
   "outputs": [
    {
     "name": "stderr",
     "output_type": "stream",
     "text": [
      "INFO:sagemaker:Creating training-job with name: sagemaker-xgboost-2024-01-26-20-05-22-525\n"
     ]
    },
    {
     "name": "stdout",
     "output_type": "stream",
     "text": [
      "2024-01-26 20:05:22 Starting - Starting the training job...\n",
      "2024-01-26 20:05:41 Starting - Preparing the instances for training.........\n",
      "2024-01-26 20:06:57 Downloading - Downloading input data...\n",
      "2024-01-26 20:07:52 Downloading - Downloading the training image......\n",
      "2024-01-26 20:08:48 Training - Training image download completed. Training in progress.\n",
      "2024-01-26 20:08:48 Uploading - Uploading generated training model\u001b[34m/miniconda3/lib/python3.8/site-packages/xgboost/compat.py:36: FutureWarning: pandas.Int64Index is deprecated and will be removed from pandas in a future version. Use pandas.Index with the appropriate dtype instead.\n",
      "  from pandas import MultiIndex, Int64Index\u001b[0m\n",
      "\u001b[34m[2024-01-26 20:08:43.231 ip-10-0-162-240.ec2.internal:8 INFO utils.py:28] RULE_JOB_STOP_SIGNAL_FILENAME: None\u001b[0m\n",
      "\u001b[34m[2024-01-26 20:08:43.255 ip-10-0-162-240.ec2.internal:8 INFO profiler_config_parser.py:111] User has disabled profiler.\u001b[0m\n",
      "\u001b[34m[2024-01-26:20:08:43:INFO] Imported framework sagemaker_xgboost_container.training\u001b[0m\n",
      "\u001b[34m[2024-01-26:20:08:43:INFO] Failed to parse hyperparameter objective value multi:softmax to Json.\u001b[0m\n",
      "\u001b[34mReturning the value itself\u001b[0m\n",
      "\u001b[34m[2024-01-26:20:08:43:INFO] No GPUs detected (normal if no gpus installed)\u001b[0m\n",
      "\u001b[34m[2024-01-26:20:08:43:INFO] Running XGBoost Sagemaker in algorithm mode\u001b[0m\n",
      "\u001b[34m[2024-01-26:20:08:43:INFO] Determined 0 GPU(s) available on the instance.\u001b[0m\n",
      "\u001b[34m[2024-01-26:20:08:43:INFO] Determined delimiter of CSV input is ','\u001b[0m\n",
      "\u001b[34m[2024-01-26:20:08:43:INFO] Determined delimiter of CSV input is ','\u001b[0m\n",
      "\u001b[34m[2024-01-26:20:08:43:INFO] files path: /opt/ml/input/data/train\u001b[0m\n",
      "\u001b[34m[2024-01-26:20:08:43:INFO] Determined delimiter of CSV input is ','\u001b[0m\n",
      "\u001b[34m[2024-01-26:20:08:43:INFO] files path: /opt/ml/input/data/validation\u001b[0m\n",
      "\u001b[34m[2024-01-26:20:08:43:INFO] Determined delimiter of CSV input is ','\u001b[0m\n",
      "\u001b[34m[2024-01-26:20:08:43:INFO] Single node training.\u001b[0m\n",
      "\u001b[34m[2024-01-26:20:08:43:INFO] Train matrix has 121 rows and 4 columns\u001b[0m\n",
      "\u001b[34m[2024-01-26:20:08:43:INFO] Validation matrix has 31 rows\u001b[0m\n",
      "\u001b[34m[2024-01-26 20:08:43.707 ip-10-0-162-240.ec2.internal:8 INFO json_config.py:92] Creating hook from json_config at /opt/ml/input/config/debughookconfig.json.\u001b[0m\n",
      "\u001b[34m[2024-01-26 20:08:43.707 ip-10-0-162-240.ec2.internal:8 INFO hook.py:206] tensorboard_dir has not been set for the hook. SMDebug will not be exporting tensorboard summaries.\u001b[0m\n",
      "\u001b[34m[2024-01-26 20:08:43.708 ip-10-0-162-240.ec2.internal:8 INFO hook.py:259] Saving to /opt/ml/output/tensors\u001b[0m\n",
      "\u001b[34m[2024-01-26 20:08:43.708 ip-10-0-162-240.ec2.internal:8 INFO state_store.py:77] The checkpoint config file /opt/ml/input/config/checkpointconfig.json does not exist.\u001b[0m\n",
      "\u001b[34m[2024-01-26:20:08:43:INFO] Debug hook created from config\u001b[0m\n",
      "\u001b[34m[20:08:43] WARNING: ../src/learner.cc:1115: Starting in XGBoost 1.3.0, the default evaluation metric used with the objective 'multi:softmax' was changed from 'merror' to 'mlogloss'. Explicitly set eval_metric if you'd like to restore the old behavior.\u001b[0m\n",
      "\u001b[34m[0]#011train-mlogloss:0.74046#011validation-mlogloss:0.75377\u001b[0m\n",
      "\u001b[34m[2024-01-26 20:08:43.770 ip-10-0-162-240.ec2.internal:8 INFO hook.py:427] Monitoring the collections: metrics\u001b[0m\n",
      "\u001b[34m[2024-01-26 20:08:43.772 ip-10-0-162-240.ec2.internal:8 INFO hook.py:491] Hook is writing from the hook with pid: 8\u001b[0m\n",
      "\u001b[34m[1]#011train-mlogloss:0.53122#011validation-mlogloss:0.53905\u001b[0m\n",
      "\u001b[34m[2]#011train-mlogloss:0.39538#011validation-mlogloss:0.39999\u001b[0m\n",
      "\u001b[34m[3]#011train-mlogloss:0.30241#011validation-mlogloss:0.30634\u001b[0m\n",
      "\u001b[34m[4]#011train-mlogloss:0.23618#011validation-mlogloss:0.24704\u001b[0m\n",
      "\u001b[34m[5]#011train-mlogloss:0.18671#011validation-mlogloss:0.19806\u001b[0m\n",
      "\u001b[34m[6]#011train-mlogloss:0.15040#011validation-mlogloss:0.17002\u001b[0m\n",
      "\u001b[34m[7]#011train-mlogloss:0.12433#011validation-mlogloss:0.14284\u001b[0m\n",
      "\u001b[34m[8]#011train-mlogloss:0.10282#011validation-mlogloss:0.12423\u001b[0m\n",
      "\u001b[34m[9]#011train-mlogloss:0.08655#011validation-mlogloss:0.11100\u001b[0m\n",
      "\n",
      "2024-01-26 20:09:04 Completed - Training job completed\n",
      "Training seconds: 127\n",
      "Billable seconds: 127\n"
     ]
    }
   ],
   "source": [
    "estimator.fit({\n",
    "    'train': s3_train,\n",
    "    'validation': s3_validate\n",
    "})"
   ]
  },
  {
   "cell_type": "code",
   "execution_count": 14,
   "id": "13a4e520-09c1-4f4c-b785-aec761e73f88",
   "metadata": {
    "tags": []
   },
   "outputs": [
    {
     "name": "stderr",
     "output_type": "stream",
     "text": [
      "INFO:sagemaker:Creating model with name: sagemaker-xgboost-2024-01-26-20-22-07-443\n",
      "INFO:sagemaker:Creating endpoint-config with name iris-endpoint\n",
      "INFO:sagemaker:Creating endpoint with name iris-endpoint\n"
     ]
    },
    {
     "name": "stdout",
     "output_type": "stream",
     "text": [
      "------------!"
     ]
    }
   ],
   "source": [
    "from sagemaker.serializers import CSVSerializer\n",
    "\n",
    "predictor = estimator.deploy(\n",
    "    initial_instance_count=1,\n",
    "    instance_type='ml.t2.medium',\n",
    "    endpoint_name='iris-endpoint',\n",
    "    serializer=CSVSerializer()\n",
    ")"
   ]
  },
  {
   "cell_type": "code",
   "execution_count": 23,
   "id": "8dee7acd-4c54-470d-b44a-dc434955f835",
   "metadata": {
    "tags": []
   },
   "outputs": [
    {
     "data": {
      "text/plain": [
       "b'2.0\\n'"
      ]
     },
     "execution_count": 23,
     "metadata": {},
     "output_type": "execute_result"
    }
   ],
   "source": [
    "predictor.predict([7.2, 3, 6, 1.6])"
   ]
  },
  {
   "cell_type": "code",
   "execution_count": 26,
   "id": "21123ed7-555d-4ec4-9101-f2906437ec03",
   "metadata": {
    "tags": []
   },
   "outputs": [
    {
     "data": {
      "text/plain": [
       "'2.0'"
      ]
     },
     "execution_count": 26,
     "metadata": {},
     "output_type": "execute_result"
    }
   ],
   "source": [
    "predictor.predict([7.2, 3, 6, 1.6]).decode('utf-8').strip()"
   ]
  },
  {
   "cell_type": "code",
   "execution_count": null,
   "id": "cfb90d72-c8f9-4ca1-a6d0-296e10571ca7",
   "metadata": {},
   "outputs": [],
   "source": []
  }
 ],
 "metadata": {
  "kernelspec": {
   "display_name": "conda_tensorflow2_p310",
   "language": "python",
   "name": "conda_tensorflow2_p310"
  },
  "language_info": {
   "codemirror_mode": {
    "name": "ipython",
    "version": 3
   },
   "file_extension": ".py",
   "mimetype": "text/x-python",
   "name": "python",
   "nbconvert_exporter": "python",
   "pygments_lexer": "ipython3",
   "version": "3.10.13"
  }
 },
 "nbformat": 4,
 "nbformat_minor": 5
}
